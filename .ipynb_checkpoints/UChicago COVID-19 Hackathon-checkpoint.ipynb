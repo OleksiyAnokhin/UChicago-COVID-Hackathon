{
 "cells": [
  {
   "cell_type": "markdown",
   "metadata": {},
   "source": [
    "### Oleksiy Anokhin (June 15, 2020)\n",
    "\n",
    "**Workbook for UChicago COVID-19 Hackathon:**\n",
    "https://voices.uchicago.edu/mscahackathon/\n",
    "\n",
    "**GitHub Repository:**\n",
    "https://github.com/OleksiyAnokhin/UChicago-COVID-Hackathon\n",
    "\n",
    "**Data source:** \n",
    "https://data.cityofchicago.org/Transportation/Taxi-Trips/wrvz-psew\n",
    "\n",
    "**How this dataset was created:**\n",
    "https://digital.chicago.gov/index.php/chicago-taxi-data-released/"
   ]
  },
  {
   "cell_type": "code",
   "execution_count": 81,
   "metadata": {},
   "outputs": [],
   "source": [
    "# Install libraries\n",
    "import numpy as np\n",
    "import pandas as pd\n",
    "import matplotlib.pyplot as plt\n",
    "%matplotlib inline\n",
    "from pandas import Series\n",
    "from pandas import DataFrame\n",
    "from pandas import concat"
   ]
  },
  {
   "cell_type": "code",
   "execution_count": 2,
   "metadata": {},
   "outputs": [
    {
     "name": "stdout",
     "output_type": "stream",
     "text": [
      "C:/Users/oleks/Documents/Projects/UChicago-COVID-Hackathon/Taxi_Trips_Dec2019-Present.csv\n"
     ]
    }
   ],
   "source": [
    "# Read dataset for December 2019 - June 2020\n",
    "path = 'C:/Users/oleks/Documents/Projects/UChicago-COVID-Hackathon/Taxi_Trips_Dec2019-Present.csv'\n",
    "print(path)"
   ]
  },
  {
   "cell_type": "code",
   "execution_count": 3,
   "metadata": {},
   "outputs": [
    {
     "name": "stderr",
     "output_type": "stream",
     "text": [
      "C:\\Users\\oleks\\Anaconda3\\lib\\site-packages\\IPython\\core\\interactiveshell.py:3058: DtypeWarning: Columns (17) have mixed types. Specify dtype option on import or set low_memory=False.\n",
      "  interactivity=interactivity, compiler=compiler, result=result)\n"
     ]
    },
    {
     "data": {
      "text/html": [
       "<div>\n",
       "<style scoped>\n",
       "    .dataframe tbody tr th:only-of-type {\n",
       "        vertical-align: middle;\n",
       "    }\n",
       "\n",
       "    .dataframe tbody tr th {\n",
       "        vertical-align: top;\n",
       "    }\n",
       "\n",
       "    .dataframe thead th {\n",
       "        text-align: right;\n",
       "    }\n",
       "</style>\n",
       "<table border=\"1\" class=\"dataframe\">\n",
       "  <thead>\n",
       "    <tr style=\"text-align: right;\">\n",
       "      <th></th>\n",
       "      <th>Trip ID</th>\n",
       "      <th>Taxi ID</th>\n",
       "      <th>Trip Start Timestamp</th>\n",
       "      <th>Trip End Timestamp</th>\n",
       "      <th>Trip Seconds</th>\n",
       "      <th>Trip Miles</th>\n",
       "      <th>Pickup Census Tract</th>\n",
       "      <th>Dropoff Census Tract</th>\n",
       "      <th>Pickup Community Area</th>\n",
       "      <th>Dropoff Community Area</th>\n",
       "      <th>...</th>\n",
       "      <th>Extras</th>\n",
       "      <th>Trip Total</th>\n",
       "      <th>Payment Type</th>\n",
       "      <th>Company</th>\n",
       "      <th>Pickup Centroid Latitude</th>\n",
       "      <th>Pickup Centroid Longitude</th>\n",
       "      <th>Pickup Centroid Location</th>\n",
       "      <th>Dropoff Centroid Latitude</th>\n",
       "      <th>Dropoff Centroid Longitude</th>\n",
       "      <th>Dropoff Centroid  Location</th>\n",
       "    </tr>\n",
       "  </thead>\n",
       "  <tbody>\n",
       "    <tr>\n",
       "      <td>0</td>\n",
       "      <td>e4c06ccfb0d1de5db8675fb3a2779b209760d6ac</td>\n",
       "      <td>bbf91e67201de7487dbeb23021a9a741e36d8d65175def...</td>\n",
       "      <td>12/01/2019 12:15:00 AM</td>\n",
       "      <td>12/01/2019 12:30:00 AM</td>\n",
       "      <td>600.0</td>\n",
       "      <td>0.1</td>\n",
       "      <td>1.703184e+10</td>\n",
       "      <td>1.703108e+10</td>\n",
       "      <td>32.0</td>\n",
       "      <td>8.0</td>\n",
       "      <td>...</td>\n",
       "      <td>0.0</td>\n",
       "      <td>10.50</td>\n",
       "      <td>Credit Card</td>\n",
       "      <td>Taxi Affiliation Services</td>\n",
       "      <td>41.881</td>\n",
       "      <td>-87.632746</td>\n",
       "      <td>POINT (-87.6327464887 41.8809944707)</td>\n",
       "      <td>41.899156</td>\n",
       "      <td>-87.626211</td>\n",
       "      <td>POINT (-87.6262105324 41.8991556134)</td>\n",
       "    </tr>\n",
       "    <tr>\n",
       "      <td>1</td>\n",
       "      <td>e1de111c0c25003054c31e0e49e9f64cc00a8683</td>\n",
       "      <td>b83ba3da1a4bc2a686d885ec2f802c3f256c518d93816c...</td>\n",
       "      <td>12/01/2019 12:15:00 AM</td>\n",
       "      <td>12/01/2019 12:15:00 AM</td>\n",
       "      <td>180.0</td>\n",
       "      <td>0.0</td>\n",
       "      <td>NaN</td>\n",
       "      <td>NaN</td>\n",
       "      <td>7.0</td>\n",
       "      <td>6.0</td>\n",
       "      <td>...</td>\n",
       "      <td>0.0</td>\n",
       "      <td>7.00</td>\n",
       "      <td>Credit Card</td>\n",
       "      <td>Taxi Affiliation Services</td>\n",
       "      <td>41.9227</td>\n",
       "      <td>-87.649489</td>\n",
       "      <td>POINT (-87.6494887289 41.9226862843)</td>\n",
       "      <td>41.944227</td>\n",
       "      <td>-87.655998</td>\n",
       "      <td>POINT (-87.6559981815 41.9442266014)</td>\n",
       "    </tr>\n",
       "    <tr>\n",
       "      <td>2</td>\n",
       "      <td>e0ed81be1b41bda25285afeeb76d4e4fb4be30fc</td>\n",
       "      <td>53c01ec83313fee495650d2294b7c88ade2f3d82f3acd0...</td>\n",
       "      <td>12/01/2019 12:15:00 AM</td>\n",
       "      <td>12/01/2019 12:30:00 AM</td>\n",
       "      <td>380.0</td>\n",
       "      <td>1.2</td>\n",
       "      <td>NaN</td>\n",
       "      <td>NaN</td>\n",
       "      <td>14.0</td>\n",
       "      <td>16.0</td>\n",
       "      <td>...</td>\n",
       "      <td>1.0</td>\n",
       "      <td>7.25</td>\n",
       "      <td>Cash</td>\n",
       "      <td>Flash Cab</td>\n",
       "      <td>41.9681</td>\n",
       "      <td>-87.721559</td>\n",
       "      <td>POINT (-87.7215590627 41.968069)</td>\n",
       "      <td>41.953582</td>\n",
       "      <td>-87.723452</td>\n",
       "      <td>POINT (-87.7234523905 41.9535821253)</td>\n",
       "    </tr>\n",
       "    <tr>\n",
       "      <td>3</td>\n",
       "      <td>e077d949ef075542a5168b48f9d09bd9320fd2d6</td>\n",
       "      <td>ef5e9c8f0da412a5961a77ad3da965c641e08eb1ddd19f...</td>\n",
       "      <td>12/01/2019 12:15:00 AM</td>\n",
       "      <td>12/01/2019 12:30:00 AM</td>\n",
       "      <td>780.0</td>\n",
       "      <td>2.0</td>\n",
       "      <td>1.703184e+10</td>\n",
       "      <td>1.703108e+10</td>\n",
       "      <td>32.0</td>\n",
       "      <td>8.0</td>\n",
       "      <td>...</td>\n",
       "      <td>2.0</td>\n",
       "      <td>13.60</td>\n",
       "      <td>Credit Card</td>\n",
       "      <td>Taxi Affiliation Services</td>\n",
       "      <td>41.881</td>\n",
       "      <td>-87.632746</td>\n",
       "      <td>POINT (-87.6327464887 41.8809944707)</td>\n",
       "      <td>41.899156</td>\n",
       "      <td>-87.626211</td>\n",
       "      <td>POINT (-87.6262105324 41.8991556134)</td>\n",
       "    </tr>\n",
       "    <tr>\n",
       "      <td>4</td>\n",
       "      <td>dfeeafe19f4fe8d71f5eadb6919b0f2fca99ee62</td>\n",
       "      <td>71cf25528ebc98e11ac91a5d359776a91874e7f6047cb8...</td>\n",
       "      <td>12/01/2019 12:15:00 AM</td>\n",
       "      <td>12/01/2019 12:30:00 AM</td>\n",
       "      <td>720.0</td>\n",
       "      <td>3.1</td>\n",
       "      <td>1.703128e+10</td>\n",
       "      <td>1.703107e+10</td>\n",
       "      <td>28.0</td>\n",
       "      <td>7.0</td>\n",
       "      <td>...</td>\n",
       "      <td>1.0</td>\n",
       "      <td>12.50</td>\n",
       "      <td>Cash</td>\n",
       "      <td>Taxi Affiliation Services</td>\n",
       "      <td>41.8793</td>\n",
       "      <td>-87.642649</td>\n",
       "      <td>POINT (-87.642648998 41.8792550844)</td>\n",
       "      <td>41.922083</td>\n",
       "      <td>-87.634156</td>\n",
       "      <td>POINT (-87.6341560931 41.922082541)</td>\n",
       "    </tr>\n",
       "  </tbody>\n",
       "</table>\n",
       "<p>5 rows × 23 columns</p>\n",
       "</div>"
      ],
      "text/plain": [
       "                                    Trip ID  \\\n",
       "0  e4c06ccfb0d1de5db8675fb3a2779b209760d6ac   \n",
       "1  e1de111c0c25003054c31e0e49e9f64cc00a8683   \n",
       "2  e0ed81be1b41bda25285afeeb76d4e4fb4be30fc   \n",
       "3  e077d949ef075542a5168b48f9d09bd9320fd2d6   \n",
       "4  dfeeafe19f4fe8d71f5eadb6919b0f2fca99ee62   \n",
       "\n",
       "                                             Taxi ID    Trip Start Timestamp  \\\n",
       "0  bbf91e67201de7487dbeb23021a9a741e36d8d65175def...  12/01/2019 12:15:00 AM   \n",
       "1  b83ba3da1a4bc2a686d885ec2f802c3f256c518d93816c...  12/01/2019 12:15:00 AM   \n",
       "2  53c01ec83313fee495650d2294b7c88ade2f3d82f3acd0...  12/01/2019 12:15:00 AM   \n",
       "3  ef5e9c8f0da412a5961a77ad3da965c641e08eb1ddd19f...  12/01/2019 12:15:00 AM   \n",
       "4  71cf25528ebc98e11ac91a5d359776a91874e7f6047cb8...  12/01/2019 12:15:00 AM   \n",
       "\n",
       "       Trip End Timestamp  Trip Seconds  Trip Miles  Pickup Census Tract  \\\n",
       "0  12/01/2019 12:30:00 AM         600.0         0.1         1.703184e+10   \n",
       "1  12/01/2019 12:15:00 AM         180.0         0.0                  NaN   \n",
       "2  12/01/2019 12:30:00 AM         380.0         1.2                  NaN   \n",
       "3  12/01/2019 12:30:00 AM         780.0         2.0         1.703184e+10   \n",
       "4  12/01/2019 12:30:00 AM         720.0         3.1         1.703128e+10   \n",
       "\n",
       "   Dropoff Census Tract  Pickup Community Area  Dropoff Community Area  ...  \\\n",
       "0          1.703108e+10                   32.0                     8.0  ...   \n",
       "1                   NaN                    7.0                     6.0  ...   \n",
       "2                   NaN                   14.0                    16.0  ...   \n",
       "3          1.703108e+10                   32.0                     8.0  ...   \n",
       "4          1.703107e+10                   28.0                     7.0  ...   \n",
       "\n",
       "   Extras  Trip Total  Payment Type                    Company  \\\n",
       "0     0.0       10.50   Credit Card  Taxi Affiliation Services   \n",
       "1     0.0        7.00   Credit Card  Taxi Affiliation Services   \n",
       "2     1.0        7.25          Cash                  Flash Cab   \n",
       "3     2.0       13.60   Credit Card  Taxi Affiliation Services   \n",
       "4     1.0       12.50          Cash  Taxi Affiliation Services   \n",
       "\n",
       "   Pickup Centroid Latitude Pickup Centroid Longitude  \\\n",
       "0                    41.881                -87.632746   \n",
       "1                   41.9227                -87.649489   \n",
       "2                   41.9681                -87.721559   \n",
       "3                    41.881                -87.632746   \n",
       "4                   41.8793                -87.642649   \n",
       "\n",
       "               Pickup Centroid Location Dropoff Centroid Latitude  \\\n",
       "0  POINT (-87.6327464887 41.8809944707)                 41.899156   \n",
       "1  POINT (-87.6494887289 41.9226862843)                 41.944227   \n",
       "2      POINT (-87.7215590627 41.968069)                 41.953582   \n",
       "3  POINT (-87.6327464887 41.8809944707)                 41.899156   \n",
       "4   POINT (-87.642648998 41.8792550844)                 41.922083   \n",
       "\n",
       "   Dropoff Centroid Longitude            Dropoff Centroid  Location  \n",
       "0                  -87.626211  POINT (-87.6262105324 41.8991556134)  \n",
       "1                  -87.655998  POINT (-87.6559981815 41.9442266014)  \n",
       "2                  -87.723452  POINT (-87.7234523905 41.9535821253)  \n",
       "3                  -87.626211  POINT (-87.6262105324 41.8991556134)  \n",
       "4                  -87.634156   POINT (-87.6341560931 41.922082541)  \n",
       "\n",
       "[5 rows x 23 columns]"
      ]
     },
     "execution_count": 3,
     "metadata": {},
     "output_type": "execute_result"
    }
   ],
   "source": [
    "# Read csv for December 2019 - June 2020\n",
    "taxi_2020 = pd.read_csv(path, encoding = 'ISO-8859-1')\n",
    "taxi_2020.head()"
   ]
  },
  {
   "cell_type": "code",
   "execution_count": 4,
   "metadata": {},
   "outputs": [
    {
     "name": "stdout",
     "output_type": "stream",
     "text": [
      "<class 'pandas.core.frame.DataFrame'>\n",
      "RangeIndex: 4137294 entries, 0 to 4137293\n",
      "Data columns (total 23 columns):\n",
      "Trip ID                       object\n",
      "Taxi ID                       object\n",
      "Trip Start Timestamp          object\n",
      "Trip End Timestamp            object\n",
      "Trip Seconds                  float64\n",
      "Trip Miles                    float64\n",
      "Pickup Census Tract           float64\n",
      "Dropoff Census Tract          float64\n",
      "Pickup Community Area         float64\n",
      "Dropoff Community Area        float64\n",
      "Fare                          float64\n",
      "Tips                          float64\n",
      "Tolls                         float64\n",
      "Extras                        float64\n",
      "Trip Total                    float64\n",
      "Payment Type                  object\n",
      "Company                       object\n",
      "Pickup Centroid Latitude      object\n",
      "Pickup Centroid Longitude     float64\n",
      "Pickup Centroid Location      object\n",
      "Dropoff Centroid Latitude     float64\n",
      "Dropoff Centroid Longitude    float64\n",
      "Dropoff Centroid  Location    object\n",
      "dtypes: float64(14), object(9)\n",
      "memory usage: 726.0+ MB\n"
     ]
    }
   ],
   "source": [
    "# Check the dataframe info\n",
    "taxi_2020.info()\n",
    "# In total we have 4137294 rows"
   ]
  },
  {
   "cell_type": "code",
   "execution_count": 5,
   "metadata": {},
   "outputs": [
    {
     "data": {
      "text/plain": [
       "True"
      ]
     },
     "execution_count": 5,
     "metadata": {},
     "output_type": "execute_result"
    }
   ],
   "source": [
    "# Check duplicates in column Taxi ID\n",
    "taxi_2020['Taxi ID'].duplicated().any()"
   ]
  },
  {
   "cell_type": "code",
   "execution_count": 6,
   "metadata": {},
   "outputs": [
    {
     "data": {
      "text/plain": [
       "4641"
      ]
     },
     "execution_count": 6,
     "metadata": {},
     "output_type": "execute_result"
    }
   ],
   "source": [
    "# Check unique values with nunique()\n",
    "taxi_2020['Taxi ID'].nunique()"
   ]
  },
  {
   "cell_type": "code",
   "execution_count": 7,
   "metadata": {},
   "outputs": [
    {
     "data": {
      "text/plain": [
       "4137026"
      ]
     },
     "execution_count": 7,
     "metadata": {},
     "output_type": "execute_result"
    }
   ],
   "source": [
    "# Check unique values with count()\n",
    "taxi_2020['Taxi ID'].count()"
   ]
  },
  {
   "cell_type": "code",
   "execution_count": 8,
   "metadata": {},
   "outputs": [],
   "source": [
    "# I will keep Taxi ID column, but will drop Ride ID column\n",
    "taxi_2020 = taxi_2020.drop('Trip ID', 1)"
   ]
  },
  {
   "cell_type": "code",
   "execution_count": 9,
   "metadata": {},
   "outputs": [
    {
     "data": {
      "text/html": [
       "<div>\n",
       "<style scoped>\n",
       "    .dataframe tbody tr th:only-of-type {\n",
       "        vertical-align: middle;\n",
       "    }\n",
       "\n",
       "    .dataframe tbody tr th {\n",
       "        vertical-align: top;\n",
       "    }\n",
       "\n",
       "    .dataframe thead th {\n",
       "        text-align: right;\n",
       "    }\n",
       "</style>\n",
       "<table border=\"1\" class=\"dataframe\">\n",
       "  <thead>\n",
       "    <tr style=\"text-align: right;\">\n",
       "      <th></th>\n",
       "      <th>Taxi ID</th>\n",
       "      <th>Trip Start Timestamp</th>\n",
       "      <th>Trip End Timestamp</th>\n",
       "      <th>Trip Seconds</th>\n",
       "      <th>Trip Miles</th>\n",
       "      <th>Pickup Census Tract</th>\n",
       "      <th>Dropoff Census Tract</th>\n",
       "      <th>Pickup Community Area</th>\n",
       "      <th>Dropoff Community Area</th>\n",
       "      <th>Fare</th>\n",
       "      <th>...</th>\n",
       "      <th>Extras</th>\n",
       "      <th>Trip Total</th>\n",
       "      <th>Payment Type</th>\n",
       "      <th>Company</th>\n",
       "      <th>Pickup Centroid Latitude</th>\n",
       "      <th>Pickup Centroid Longitude</th>\n",
       "      <th>Pickup Centroid Location</th>\n",
       "      <th>Dropoff Centroid Latitude</th>\n",
       "      <th>Dropoff Centroid Longitude</th>\n",
       "      <th>Dropoff Centroid  Location</th>\n",
       "    </tr>\n",
       "  </thead>\n",
       "  <tbody>\n",
       "    <tr>\n",
       "      <td>0</td>\n",
       "      <td>bbf91e67201de7487dbeb23021a9a741e36d8d65175def...</td>\n",
       "      <td>12/01/2019 12:15:00 AM</td>\n",
       "      <td>12/01/2019 12:30:00 AM</td>\n",
       "      <td>600.0</td>\n",
       "      <td>0.1</td>\n",
       "      <td>1.703184e+10</td>\n",
       "      <td>1.703108e+10</td>\n",
       "      <td>32.0</td>\n",
       "      <td>8.0</td>\n",
       "      <td>8.75</td>\n",
       "      <td>...</td>\n",
       "      <td>0.0</td>\n",
       "      <td>10.50</td>\n",
       "      <td>Credit Card</td>\n",
       "      <td>Taxi Affiliation Services</td>\n",
       "      <td>41.881</td>\n",
       "      <td>-87.632746</td>\n",
       "      <td>POINT (-87.6327464887 41.8809944707)</td>\n",
       "      <td>41.899156</td>\n",
       "      <td>-87.626211</td>\n",
       "      <td>POINT (-87.6262105324 41.8991556134)</td>\n",
       "    </tr>\n",
       "    <tr>\n",
       "      <td>1</td>\n",
       "      <td>b83ba3da1a4bc2a686d885ec2f802c3f256c518d93816c...</td>\n",
       "      <td>12/01/2019 12:15:00 AM</td>\n",
       "      <td>12/01/2019 12:15:00 AM</td>\n",
       "      <td>180.0</td>\n",
       "      <td>0.0</td>\n",
       "      <td>NaN</td>\n",
       "      <td>NaN</td>\n",
       "      <td>7.0</td>\n",
       "      <td>6.0</td>\n",
       "      <td>5.00</td>\n",
       "      <td>...</td>\n",
       "      <td>0.0</td>\n",
       "      <td>7.00</td>\n",
       "      <td>Credit Card</td>\n",
       "      <td>Taxi Affiliation Services</td>\n",
       "      <td>41.9227</td>\n",
       "      <td>-87.649489</td>\n",
       "      <td>POINT (-87.6494887289 41.9226862843)</td>\n",
       "      <td>41.944227</td>\n",
       "      <td>-87.655998</td>\n",
       "      <td>POINT (-87.6559981815 41.9442266014)</td>\n",
       "    </tr>\n",
       "    <tr>\n",
       "      <td>2</td>\n",
       "      <td>53c01ec83313fee495650d2294b7c88ade2f3d82f3acd0...</td>\n",
       "      <td>12/01/2019 12:15:00 AM</td>\n",
       "      <td>12/01/2019 12:30:00 AM</td>\n",
       "      <td>380.0</td>\n",
       "      <td>1.2</td>\n",
       "      <td>NaN</td>\n",
       "      <td>NaN</td>\n",
       "      <td>14.0</td>\n",
       "      <td>16.0</td>\n",
       "      <td>6.25</td>\n",
       "      <td>...</td>\n",
       "      <td>1.0</td>\n",
       "      <td>7.25</td>\n",
       "      <td>Cash</td>\n",
       "      <td>Flash Cab</td>\n",
       "      <td>41.9681</td>\n",
       "      <td>-87.721559</td>\n",
       "      <td>POINT (-87.7215590627 41.968069)</td>\n",
       "      <td>41.953582</td>\n",
       "      <td>-87.723452</td>\n",
       "      <td>POINT (-87.7234523905 41.9535821253)</td>\n",
       "    </tr>\n",
       "    <tr>\n",
       "      <td>3</td>\n",
       "      <td>ef5e9c8f0da412a5961a77ad3da965c641e08eb1ddd19f...</td>\n",
       "      <td>12/01/2019 12:15:00 AM</td>\n",
       "      <td>12/01/2019 12:30:00 AM</td>\n",
       "      <td>780.0</td>\n",
       "      <td>2.0</td>\n",
       "      <td>1.703184e+10</td>\n",
       "      <td>1.703108e+10</td>\n",
       "      <td>32.0</td>\n",
       "      <td>8.0</td>\n",
       "      <td>9.25</td>\n",
       "      <td>...</td>\n",
       "      <td>2.0</td>\n",
       "      <td>13.60</td>\n",
       "      <td>Credit Card</td>\n",
       "      <td>Taxi Affiliation Services</td>\n",
       "      <td>41.881</td>\n",
       "      <td>-87.632746</td>\n",
       "      <td>POINT (-87.6327464887 41.8809944707)</td>\n",
       "      <td>41.899156</td>\n",
       "      <td>-87.626211</td>\n",
       "      <td>POINT (-87.6262105324 41.8991556134)</td>\n",
       "    </tr>\n",
       "    <tr>\n",
       "      <td>4</td>\n",
       "      <td>71cf25528ebc98e11ac91a5d359776a91874e7f6047cb8...</td>\n",
       "      <td>12/01/2019 12:15:00 AM</td>\n",
       "      <td>12/01/2019 12:30:00 AM</td>\n",
       "      <td>720.0</td>\n",
       "      <td>3.1</td>\n",
       "      <td>1.703128e+10</td>\n",
       "      <td>1.703107e+10</td>\n",
       "      <td>28.0</td>\n",
       "      <td>7.0</td>\n",
       "      <td>11.50</td>\n",
       "      <td>...</td>\n",
       "      <td>1.0</td>\n",
       "      <td>12.50</td>\n",
       "      <td>Cash</td>\n",
       "      <td>Taxi Affiliation Services</td>\n",
       "      <td>41.8793</td>\n",
       "      <td>-87.642649</td>\n",
       "      <td>POINT (-87.642648998 41.8792550844)</td>\n",
       "      <td>41.922083</td>\n",
       "      <td>-87.634156</td>\n",
       "      <td>POINT (-87.6341560931 41.922082541)</td>\n",
       "    </tr>\n",
       "  </tbody>\n",
       "</table>\n",
       "<p>5 rows × 22 columns</p>\n",
       "</div>"
      ],
      "text/plain": [
       "                                             Taxi ID    Trip Start Timestamp  \\\n",
       "0  bbf91e67201de7487dbeb23021a9a741e36d8d65175def...  12/01/2019 12:15:00 AM   \n",
       "1  b83ba3da1a4bc2a686d885ec2f802c3f256c518d93816c...  12/01/2019 12:15:00 AM   \n",
       "2  53c01ec83313fee495650d2294b7c88ade2f3d82f3acd0...  12/01/2019 12:15:00 AM   \n",
       "3  ef5e9c8f0da412a5961a77ad3da965c641e08eb1ddd19f...  12/01/2019 12:15:00 AM   \n",
       "4  71cf25528ebc98e11ac91a5d359776a91874e7f6047cb8...  12/01/2019 12:15:00 AM   \n",
       "\n",
       "       Trip End Timestamp  Trip Seconds  Trip Miles  Pickup Census Tract  \\\n",
       "0  12/01/2019 12:30:00 AM         600.0         0.1         1.703184e+10   \n",
       "1  12/01/2019 12:15:00 AM         180.0         0.0                  NaN   \n",
       "2  12/01/2019 12:30:00 AM         380.0         1.2                  NaN   \n",
       "3  12/01/2019 12:30:00 AM         780.0         2.0         1.703184e+10   \n",
       "4  12/01/2019 12:30:00 AM         720.0         3.1         1.703128e+10   \n",
       "\n",
       "   Dropoff Census Tract  Pickup Community Area  Dropoff Community Area   Fare  \\\n",
       "0          1.703108e+10                   32.0                     8.0   8.75   \n",
       "1                   NaN                    7.0                     6.0   5.00   \n",
       "2                   NaN                   14.0                    16.0   6.25   \n",
       "3          1.703108e+10                   32.0                     8.0   9.25   \n",
       "4          1.703107e+10                   28.0                     7.0  11.50   \n",
       "\n",
       "   ...  Extras  Trip Total  Payment Type                    Company  \\\n",
       "0  ...     0.0       10.50   Credit Card  Taxi Affiliation Services   \n",
       "1  ...     0.0        7.00   Credit Card  Taxi Affiliation Services   \n",
       "2  ...     1.0        7.25          Cash                  Flash Cab   \n",
       "3  ...     2.0       13.60   Credit Card  Taxi Affiliation Services   \n",
       "4  ...     1.0       12.50          Cash  Taxi Affiliation Services   \n",
       "\n",
       "  Pickup Centroid Latitude Pickup Centroid Longitude  \\\n",
       "0                   41.881                -87.632746   \n",
       "1                  41.9227                -87.649489   \n",
       "2                  41.9681                -87.721559   \n",
       "3                   41.881                -87.632746   \n",
       "4                  41.8793                -87.642649   \n",
       "\n",
       "               Pickup Centroid Location  Dropoff Centroid Latitude  \\\n",
       "0  POINT (-87.6327464887 41.8809944707)                  41.899156   \n",
       "1  POINT (-87.6494887289 41.9226862843)                  41.944227   \n",
       "2      POINT (-87.7215590627 41.968069)                  41.953582   \n",
       "3  POINT (-87.6327464887 41.8809944707)                  41.899156   \n",
       "4   POINT (-87.642648998 41.8792550844)                  41.922083   \n",
       "\n",
       "  Dropoff Centroid Longitude            Dropoff Centroid  Location  \n",
       "0                 -87.626211  POINT (-87.6262105324 41.8991556134)  \n",
       "1                 -87.655998  POINT (-87.6559981815 41.9442266014)  \n",
       "2                 -87.723452  POINT (-87.7234523905 41.9535821253)  \n",
       "3                 -87.626211  POINT (-87.6262105324 41.8991556134)  \n",
       "4                 -87.634156   POINT (-87.6341560931 41.922082541)  \n",
       "\n",
       "[5 rows x 22 columns]"
      ]
     },
     "execution_count": 9,
     "metadata": {},
     "output_type": "execute_result"
    }
   ],
   "source": [
    "# Check structure\n",
    "taxi_2020.head()\n",
    "# As you can see below, now we have only 22 columns"
   ]
  },
  {
   "cell_type": "code",
   "execution_count": 10,
   "metadata": {},
   "outputs": [
    {
     "data": {
      "text/plain": [
       "Taxi ID                        object\n",
       "Trip Start Timestamp           object\n",
       "Trip End Timestamp             object\n",
       "Trip Seconds                  float64\n",
       "Trip Miles                    float64\n",
       "Pickup Census Tract           float64\n",
       "Dropoff Census Tract          float64\n",
       "Pickup Community Area         float64\n",
       "Dropoff Community Area        float64\n",
       "Fare                          float64\n",
       "Tips                          float64\n",
       "Tolls                         float64\n",
       "Extras                        float64\n",
       "Trip Total                    float64\n",
       "Payment Type                   object\n",
       "Company                        object\n",
       "Pickup Centroid Latitude       object\n",
       "Pickup Centroid Longitude     float64\n",
       "Pickup Centroid Location       object\n",
       "Dropoff Centroid Latitude     float64\n",
       "Dropoff Centroid Longitude    float64\n",
       "Dropoff Centroid  Location     object\n",
       "dtype: object"
      ]
     },
     "execution_count": 10,
     "metadata": {},
     "output_type": "execute_result"
    }
   ],
   "source": [
    "# Check column types\n",
    "taxi_2020.dtypes"
   ]
  },
  {
   "cell_type": "code",
   "execution_count": 11,
   "metadata": {},
   "outputs": [],
   "source": [
    "# Convert format and coerce errors for now\n",
    "taxi_2020['Trip Start Timestamp'] = pd.to_datetime(taxi_2020['Trip Start Timestamp'], errors = 'coerce')\n",
    "taxi_2020['Trip End Timestamp'] = pd.to_datetime(taxi_2020['Trip End Timestamp'], errors = 'coerce')\n",
    "# This is a temporary solution and I think it can hurt in furure. Also, might be a good idea split data first"
   ]
  },
  {
   "cell_type": "code",
   "execution_count": 12,
   "metadata": {},
   "outputs": [
    {
     "data": {
      "text/plain": [
       "Taxi ID                               object\n",
       "Trip Start Timestamp          datetime64[ns]\n",
       "Trip End Timestamp            datetime64[ns]\n",
       "Trip Seconds                         float64\n",
       "Trip Miles                           float64\n",
       "Pickup Census Tract                  float64\n",
       "Dropoff Census Tract                 float64\n",
       "Pickup Community Area                float64\n",
       "Dropoff Community Area               float64\n",
       "Fare                                 float64\n",
       "Tips                                 float64\n",
       "Tolls                                float64\n",
       "Extras                               float64\n",
       "Trip Total                           float64\n",
       "Payment Type                          object\n",
       "Company                               object\n",
       "Pickup Centroid Latitude              object\n",
       "Pickup Centroid Longitude            float64\n",
       "Pickup Centroid Location              object\n",
       "Dropoff Centroid Latitude            float64\n",
       "Dropoff Centroid Longitude           float64\n",
       "Dropoff Centroid  Location            object\n",
       "dtype: object"
      ]
     },
     "execution_count": 12,
     "metadata": {},
     "output_type": "execute_result"
    }
   ],
   "source": [
    "# Check data types again\n",
    "taxi_2020.dtypes"
   ]
  },
  {
   "cell_type": "code",
   "execution_count": 13,
   "metadata": {},
   "outputs": [],
   "source": [
    "# Split trip start and trip end columns\n",
    "taxi_2020['Start Date'] = taxi_2020['Trip Start Timestamp'].dt.date\n",
    "taxi_2020['Start Time'] = taxi_2020['Trip Start Timestamp'].dt.time\n",
    "taxi_2020['End Date'] = taxi_2020['Trip End Timestamp'].dt.date\n",
    "taxi_2020['End Time'] = taxi_2020['Trip End Timestamp'].dt.time"
   ]
  },
  {
   "cell_type": "code",
   "execution_count": 14,
   "metadata": {},
   "outputs": [
    {
     "data": {
      "text/html": [
       "<div>\n",
       "<style scoped>\n",
       "    .dataframe tbody tr th:only-of-type {\n",
       "        vertical-align: middle;\n",
       "    }\n",
       "\n",
       "    .dataframe tbody tr th {\n",
       "        vertical-align: top;\n",
       "    }\n",
       "\n",
       "    .dataframe thead th {\n",
       "        text-align: right;\n",
       "    }\n",
       "</style>\n",
       "<table border=\"1\" class=\"dataframe\">\n",
       "  <thead>\n",
       "    <tr style=\"text-align: right;\">\n",
       "      <th></th>\n",
       "      <th>Taxi ID</th>\n",
       "      <th>Trip Start Timestamp</th>\n",
       "      <th>Trip End Timestamp</th>\n",
       "      <th>Trip Seconds</th>\n",
       "      <th>Trip Miles</th>\n",
       "      <th>Pickup Census Tract</th>\n",
       "      <th>Dropoff Census Tract</th>\n",
       "      <th>Pickup Community Area</th>\n",
       "      <th>Dropoff Community Area</th>\n",
       "      <th>Fare</th>\n",
       "      <th>...</th>\n",
       "      <th>Pickup Centroid Latitude</th>\n",
       "      <th>Pickup Centroid Longitude</th>\n",
       "      <th>Pickup Centroid Location</th>\n",
       "      <th>Dropoff Centroid Latitude</th>\n",
       "      <th>Dropoff Centroid Longitude</th>\n",
       "      <th>Dropoff Centroid  Location</th>\n",
       "      <th>Start Date</th>\n",
       "      <th>Start Time</th>\n",
       "      <th>End Date</th>\n",
       "      <th>End Time</th>\n",
       "    </tr>\n",
       "  </thead>\n",
       "  <tbody>\n",
       "    <tr>\n",
       "      <td>0</td>\n",
       "      <td>bbf91e67201de7487dbeb23021a9a741e36d8d65175def...</td>\n",
       "      <td>2019-12-01 00:15:00</td>\n",
       "      <td>2019-12-01 00:30:00</td>\n",
       "      <td>600.0</td>\n",
       "      <td>0.1</td>\n",
       "      <td>1.703184e+10</td>\n",
       "      <td>1.703108e+10</td>\n",
       "      <td>32.0</td>\n",
       "      <td>8.0</td>\n",
       "      <td>8.75</td>\n",
       "      <td>...</td>\n",
       "      <td>41.881</td>\n",
       "      <td>-87.632746</td>\n",
       "      <td>POINT (-87.6327464887 41.8809944707)</td>\n",
       "      <td>41.899156</td>\n",
       "      <td>-87.626211</td>\n",
       "      <td>POINT (-87.6262105324 41.8991556134)</td>\n",
       "      <td>2019-12-01</td>\n",
       "      <td>00:15:00</td>\n",
       "      <td>2019-12-01</td>\n",
       "      <td>00:30:00</td>\n",
       "    </tr>\n",
       "    <tr>\n",
       "      <td>1</td>\n",
       "      <td>b83ba3da1a4bc2a686d885ec2f802c3f256c518d93816c...</td>\n",
       "      <td>2019-12-01 00:15:00</td>\n",
       "      <td>2019-12-01 00:15:00</td>\n",
       "      <td>180.0</td>\n",
       "      <td>0.0</td>\n",
       "      <td>NaN</td>\n",
       "      <td>NaN</td>\n",
       "      <td>7.0</td>\n",
       "      <td>6.0</td>\n",
       "      <td>5.00</td>\n",
       "      <td>...</td>\n",
       "      <td>41.9227</td>\n",
       "      <td>-87.649489</td>\n",
       "      <td>POINT (-87.6494887289 41.9226862843)</td>\n",
       "      <td>41.944227</td>\n",
       "      <td>-87.655998</td>\n",
       "      <td>POINT (-87.6559981815 41.9442266014)</td>\n",
       "      <td>2019-12-01</td>\n",
       "      <td>00:15:00</td>\n",
       "      <td>2019-12-01</td>\n",
       "      <td>00:15:00</td>\n",
       "    </tr>\n",
       "    <tr>\n",
       "      <td>2</td>\n",
       "      <td>53c01ec83313fee495650d2294b7c88ade2f3d82f3acd0...</td>\n",
       "      <td>2019-12-01 00:15:00</td>\n",
       "      <td>2019-12-01 00:30:00</td>\n",
       "      <td>380.0</td>\n",
       "      <td>1.2</td>\n",
       "      <td>NaN</td>\n",
       "      <td>NaN</td>\n",
       "      <td>14.0</td>\n",
       "      <td>16.0</td>\n",
       "      <td>6.25</td>\n",
       "      <td>...</td>\n",
       "      <td>41.9681</td>\n",
       "      <td>-87.721559</td>\n",
       "      <td>POINT (-87.7215590627 41.968069)</td>\n",
       "      <td>41.953582</td>\n",
       "      <td>-87.723452</td>\n",
       "      <td>POINT (-87.7234523905 41.9535821253)</td>\n",
       "      <td>2019-12-01</td>\n",
       "      <td>00:15:00</td>\n",
       "      <td>2019-12-01</td>\n",
       "      <td>00:30:00</td>\n",
       "    </tr>\n",
       "    <tr>\n",
       "      <td>3</td>\n",
       "      <td>ef5e9c8f0da412a5961a77ad3da965c641e08eb1ddd19f...</td>\n",
       "      <td>2019-12-01 00:15:00</td>\n",
       "      <td>2019-12-01 00:30:00</td>\n",
       "      <td>780.0</td>\n",
       "      <td>2.0</td>\n",
       "      <td>1.703184e+10</td>\n",
       "      <td>1.703108e+10</td>\n",
       "      <td>32.0</td>\n",
       "      <td>8.0</td>\n",
       "      <td>9.25</td>\n",
       "      <td>...</td>\n",
       "      <td>41.881</td>\n",
       "      <td>-87.632746</td>\n",
       "      <td>POINT (-87.6327464887 41.8809944707)</td>\n",
       "      <td>41.899156</td>\n",
       "      <td>-87.626211</td>\n",
       "      <td>POINT (-87.6262105324 41.8991556134)</td>\n",
       "      <td>2019-12-01</td>\n",
       "      <td>00:15:00</td>\n",
       "      <td>2019-12-01</td>\n",
       "      <td>00:30:00</td>\n",
       "    </tr>\n",
       "    <tr>\n",
       "      <td>4</td>\n",
       "      <td>71cf25528ebc98e11ac91a5d359776a91874e7f6047cb8...</td>\n",
       "      <td>2019-12-01 00:15:00</td>\n",
       "      <td>2019-12-01 00:30:00</td>\n",
       "      <td>720.0</td>\n",
       "      <td>3.1</td>\n",
       "      <td>1.703128e+10</td>\n",
       "      <td>1.703107e+10</td>\n",
       "      <td>28.0</td>\n",
       "      <td>7.0</td>\n",
       "      <td>11.50</td>\n",
       "      <td>...</td>\n",
       "      <td>41.8793</td>\n",
       "      <td>-87.642649</td>\n",
       "      <td>POINT (-87.642648998 41.8792550844)</td>\n",
       "      <td>41.922083</td>\n",
       "      <td>-87.634156</td>\n",
       "      <td>POINT (-87.6341560931 41.922082541)</td>\n",
       "      <td>2019-12-01</td>\n",
       "      <td>00:15:00</td>\n",
       "      <td>2019-12-01</td>\n",
       "      <td>00:30:00</td>\n",
       "    </tr>\n",
       "  </tbody>\n",
       "</table>\n",
       "<p>5 rows × 26 columns</p>\n",
       "</div>"
      ],
      "text/plain": [
       "                                             Taxi ID Trip Start Timestamp  \\\n",
       "0  bbf91e67201de7487dbeb23021a9a741e36d8d65175def...  2019-12-01 00:15:00   \n",
       "1  b83ba3da1a4bc2a686d885ec2f802c3f256c518d93816c...  2019-12-01 00:15:00   \n",
       "2  53c01ec83313fee495650d2294b7c88ade2f3d82f3acd0...  2019-12-01 00:15:00   \n",
       "3  ef5e9c8f0da412a5961a77ad3da965c641e08eb1ddd19f...  2019-12-01 00:15:00   \n",
       "4  71cf25528ebc98e11ac91a5d359776a91874e7f6047cb8...  2019-12-01 00:15:00   \n",
       "\n",
       "   Trip End Timestamp  Trip Seconds  Trip Miles  Pickup Census Tract  \\\n",
       "0 2019-12-01 00:30:00         600.0         0.1         1.703184e+10   \n",
       "1 2019-12-01 00:15:00         180.0         0.0                  NaN   \n",
       "2 2019-12-01 00:30:00         380.0         1.2                  NaN   \n",
       "3 2019-12-01 00:30:00         780.0         2.0         1.703184e+10   \n",
       "4 2019-12-01 00:30:00         720.0         3.1         1.703128e+10   \n",
       "\n",
       "   Dropoff Census Tract  Pickup Community Area  Dropoff Community Area   Fare  \\\n",
       "0          1.703108e+10                   32.0                     8.0   8.75   \n",
       "1                   NaN                    7.0                     6.0   5.00   \n",
       "2                   NaN                   14.0                    16.0   6.25   \n",
       "3          1.703108e+10                   32.0                     8.0   9.25   \n",
       "4          1.703107e+10                   28.0                     7.0  11.50   \n",
       "\n",
       "   ...  Pickup Centroid Latitude  Pickup Centroid Longitude  \\\n",
       "0  ...                    41.881                 -87.632746   \n",
       "1  ...                   41.9227                 -87.649489   \n",
       "2  ...                   41.9681                 -87.721559   \n",
       "3  ...                    41.881                 -87.632746   \n",
       "4  ...                   41.8793                 -87.642649   \n",
       "\n",
       "               Pickup Centroid Location  Dropoff Centroid Latitude  \\\n",
       "0  POINT (-87.6327464887 41.8809944707)                  41.899156   \n",
       "1  POINT (-87.6494887289 41.9226862843)                  41.944227   \n",
       "2      POINT (-87.7215590627 41.968069)                  41.953582   \n",
       "3  POINT (-87.6327464887 41.8809944707)                  41.899156   \n",
       "4   POINT (-87.642648998 41.8792550844)                  41.922083   \n",
       "\n",
       "  Dropoff Centroid Longitude            Dropoff Centroid  Location  \\\n",
       "0                 -87.626211  POINT (-87.6262105324 41.8991556134)   \n",
       "1                 -87.655998  POINT (-87.6559981815 41.9442266014)   \n",
       "2                 -87.723452  POINT (-87.7234523905 41.9535821253)   \n",
       "3                 -87.626211  POINT (-87.6262105324 41.8991556134)   \n",
       "4                 -87.634156   POINT (-87.6341560931 41.922082541)   \n",
       "\n",
       "   Start Date  Start Time    End Date  End Time  \n",
       "0  2019-12-01    00:15:00  2019-12-01  00:30:00  \n",
       "1  2019-12-01    00:15:00  2019-12-01  00:15:00  \n",
       "2  2019-12-01    00:15:00  2019-12-01  00:30:00  \n",
       "3  2019-12-01    00:15:00  2019-12-01  00:30:00  \n",
       "4  2019-12-01    00:15:00  2019-12-01  00:30:00  \n",
       "\n",
       "[5 rows x 26 columns]"
      ]
     },
     "execution_count": 14,
     "metadata": {},
     "output_type": "execute_result"
    }
   ],
   "source": [
    "# Check data types again\n",
    "taxi_2020.head()"
   ]
  },
  {
   "cell_type": "code",
   "execution_count": 15,
   "metadata": {},
   "outputs": [
    {
     "data": {
      "text/plain": [
       "Taxi ID                               object\n",
       "Trip Start Timestamp          datetime64[ns]\n",
       "Trip End Timestamp            datetime64[ns]\n",
       "Trip Seconds                         float64\n",
       "Trip Miles                           float64\n",
       "Pickup Census Tract                  float64\n",
       "Dropoff Census Tract                 float64\n",
       "Pickup Community Area                float64\n",
       "Dropoff Community Area               float64\n",
       "Fare                                 float64\n",
       "Tips                                 float64\n",
       "Tolls                                float64\n",
       "Extras                               float64\n",
       "Trip Total                           float64\n",
       "Payment Type                          object\n",
       "Company                               object\n",
       "Pickup Centroid Latitude              object\n",
       "Pickup Centroid Longitude            float64\n",
       "Pickup Centroid Location              object\n",
       "Dropoff Centroid Latitude            float64\n",
       "Dropoff Centroid Longitude           float64\n",
       "Dropoff Centroid  Location            object\n",
       "Start Date                            object\n",
       "Start Time                            object\n",
       "End Date                              object\n",
       "End Time                              object\n",
       "dtype: object"
      ]
     },
     "execution_count": 15,
     "metadata": {},
     "output_type": "execute_result"
    }
   ],
   "source": [
    "# Check data types again\n",
    "taxi_2020.dtypes"
   ]
  },
  {
   "cell_type": "code",
   "execution_count": 16,
   "metadata": {},
   "outputs": [],
   "source": [
    "# Convert start date and into datetime format\n",
    "taxi_2020['Start Date'] = pd.to_datetime(taxi_2020['Start Date'])\n",
    "taxi_2020['End Date'] = pd.to_datetime(taxi_2020['End Date'])"
   ]
  },
  {
   "cell_type": "code",
   "execution_count": 17,
   "metadata": {},
   "outputs": [
    {
     "data": {
      "text/plain": [
       "Taxi ID                               object\n",
       "Trip Start Timestamp          datetime64[ns]\n",
       "Trip End Timestamp            datetime64[ns]\n",
       "Trip Seconds                         float64\n",
       "Trip Miles                           float64\n",
       "Pickup Census Tract                  float64\n",
       "Dropoff Census Tract                 float64\n",
       "Pickup Community Area                float64\n",
       "Dropoff Community Area               float64\n",
       "Fare                                 float64\n",
       "Tips                                 float64\n",
       "Tolls                                float64\n",
       "Extras                               float64\n",
       "Trip Total                           float64\n",
       "Payment Type                          object\n",
       "Company                               object\n",
       "Pickup Centroid Latitude              object\n",
       "Pickup Centroid Longitude            float64\n",
       "Pickup Centroid Location              object\n",
       "Dropoff Centroid Latitude            float64\n",
       "Dropoff Centroid Longitude           float64\n",
       "Dropoff Centroid  Location            object\n",
       "Start Date                    datetime64[ns]\n",
       "Start Time                            object\n",
       "End Date                      datetime64[ns]\n",
       "End Time                              object\n",
       "dtype: object"
      ]
     },
     "execution_count": 17,
     "metadata": {},
     "output_type": "execute_result"
    }
   ],
   "source": [
    "# Check data types again\n",
    "taxi_2020.dtypes"
   ]
  },
  {
   "cell_type": "markdown",
   "metadata": {},
   "source": [
    "### 1. Exploring the frequency of rides (total and by company before and after COVIF-19)"
   ]
  },
  {
   "cell_type": "code",
   "execution_count": 18,
   "metadata": {},
   "outputs": [],
   "source": [
    "# Group rides by date and count\n",
    "taxi_2020_by_day = taxi_2020['Start Date'].dt.date.value_counts().sort_index().reset_index()\n",
    "taxi_2020_by_day.columns = ['Start Date', 'Count']"
   ]
  },
  {
   "cell_type": "code",
   "execution_count": 20,
   "metadata": {},
   "outputs": [
    {
     "name": "stdout",
     "output_type": "stream",
     "text": [
      "     Start Date  Count\n",
      "0    2019-12-01  33571\n",
      "1    2019-12-02  52913\n",
      "2    2019-12-03  56998\n",
      "3    2019-12-04  58126\n",
      "4    2019-12-05  62134\n",
      "..          ...    ...\n",
      "179  2020-05-28   2721\n",
      "180  2020-05-29   2844\n",
      "181  2020-05-30   2394\n",
      "182  2020-05-31   2438\n",
      "183  2020-06-01     10\n",
      "\n",
      "[184 rows x 2 columns]\n"
     ]
    }
   ],
   "source": [
    "print(taxi_2020_by_day)"
   ]
  },
  {
   "cell_type": "code",
   "execution_count": 21,
   "metadata": {},
   "outputs": [],
   "source": [
    "# Rename start date column\n",
    "taxi_2020_by_day = taxi_2020_by_day.rename(columns = {'Start Date': \"Start_date\"})"
   ]
  },
  {
   "cell_type": "code",
   "execution_count": 122,
   "metadata": {},
   "outputs": [
    {
     "data": {
      "image/png": "[encoded data removed]",
      "text/plain": [
       "<Figure size 720x720 with 1 Axes>"
      ]
     },
     "metadata": {
      "needs_background": "light"
     },
     "output_type": "display_data"
    }
   ],
   "source": [
    "# Plot rides by day\n",
    "plt.rcParams['figure.figsize'] = (10,10)\n",
    "plt.plot(taxi_2020_by_day.Start_date, taxi_2020_by_day.Count)\n",
    "# plt.title('The taxi traffic in Chicago dropped significantly in the end of March 2020 due to COVID-19')\n",
    "plt.show()"
   ]
  },
  {
   "cell_type": "code",
   "execution_count": 23,
   "metadata": {},
   "outputs": [
    {
     "data": {
      "image/png": "[encoded data removed]",
      "text/plain": [
       "<Figure size 720x720 with 1 Axes>"
      ]
     },
     "metadata": {
      "needs_background": "light"
     },
     "output_type": "display_data"
    }
   ],
   "source": [
    "# The same data can be presented in the format of barchart\n",
    "plt.bar(taxi_2020_by_day.Start_date, taxi_2020_by_day.Count)\n",
    "plt.title('The taxi traffic in Chicago drop significantly in the end of March 2020 due to COVID-19')\n",
    "plt.show()"
   ]
  },
  {
   "cell_type": "code",
   "execution_count": 24,
   "metadata": {},
   "outputs": [
    {
     "name": "stdout",
     "output_type": "stream",
     "text": [
      "     Start Date                        Company    0\n",
      "0    2019-12-01    1085 - 72312 N and W Cab Co    4\n",
      "1    2019-12-01     2092 - 61288 Sbeih company    5\n",
      "2    2019-12-01                  24 Seven Taxi  279\n",
      "3    2019-12-01      3011 - 66308 JBL Cab Inc.    2\n",
      "4    2019-12-01     3094 - 24059 G.L.B. Cab Co   11\n",
      "...         ...                            ...  ...\n",
      "6362 2020-05-31  Taxicab Insurance Agency, LLC   17\n",
      "6363 2020-05-31            Top Cab Affiliation   70\n",
      "6364 2020-05-31                      U Taxicab   33\n",
      "6365 2020-06-01                      Flash Cab    6\n",
      "6366 2020-06-01      Taxi Affiliation Services    4\n",
      "\n",
      "[6367 rows x 3 columns]\n"
     ]
    }
   ],
   "source": [
    "# Now let's analyze how different companies were affected during this period of time\n",
    "taxi_2020_by_day_company = taxi_2020.groupby(['Start Date', 'Company']).size().reset_index()\n",
    "print(taxi_2020_by_day_company)"
   ]
  },
  {
   "cell_type": "code",
   "execution_count": 25,
   "metadata": {},
   "outputs": [
    {
     "name": "stdout",
     "output_type": "stream",
     "text": [
      "     Start Date                        Company  Rides\n",
      "0    2019-12-01    1085 - 72312 N and W Cab Co      4\n",
      "1    2019-12-01     2092 - 61288 Sbeih company      5\n",
      "2    2019-12-01                  24 Seven Taxi    279\n",
      "3    2019-12-01      3011 - 66308 JBL Cab Inc.      2\n",
      "4    2019-12-01     3094 - 24059 G.L.B. Cab Co     11\n",
      "...         ...                            ...    ...\n",
      "6362 2020-05-31  Taxicab Insurance Agency, LLC     17\n",
      "6363 2020-05-31            Top Cab Affiliation     70\n",
      "6364 2020-05-31                      U Taxicab     33\n",
      "6365 2020-06-01                      Flash Cab      6\n",
      "6366 2020-06-01      Taxi Affiliation Services      4\n",
      "\n",
      "[6367 rows x 3 columns]\n"
     ]
    }
   ],
   "source": [
    "# Rename column 0\n",
    "taxi_2020_by_day_company = taxi_2020_by_day_company.rename(columns = {0 : 'Rides'})\n",
    "print(taxi_2020_by_day_company)"
   ]
  },
  {
   "cell_type": "code",
   "execution_count": 26,
   "metadata": {},
   "outputs": [
    {
     "data": {
      "text/plain": [
       "Taxi Affiliation Services                       184\n",
       "Flash Cab                                       184\n",
       "Top Cab Affiliation                             183\n",
       "Taxicab Insurance Agency, LLC                   183\n",
       "Sun Taxi                                        183\n",
       "Blue Ribbon Taxi Association Inc.               183\n",
       "Choice Taxi Association                         183\n",
       "Chicago Taxicab                                 183\n",
       "Medallion Leasin                                183\n",
       "Patriot Taxi Dba Peace Taxi Associat            183\n",
       "Setare Inc                                      183\n",
       "Star North Management LLC                       183\n",
       "312 Medallion Management Corp                   183\n",
       "Chicago Independents                            183\n",
       "City Service                                    182\n",
       "Suburban Dispatch LLC                           181\n",
       "Chicago Medallion Management                    178\n",
       "Metro Jet Taxi A                                174\n",
       "Nova Taxi Affiliation Llc                       169\n",
       "24 Seven Taxi                                   169\n",
       "U Taxicab                                       153\n",
       "Chicago Carriage Cab Corp                       150\n",
       "3556 - 36214 RC Andrews Cab                     147\n",
       "KOAM Taxi Association                           136\n",
       "Petani Cab Corp                                 123\n",
       "5 Star Taxi                                     118\n",
       "2733 - 74600 Benny Jona                         118\n",
       "Leonard Cab Co                                  115\n",
       "4623 - 27290 Jay Kim                            114\n",
       "2092 - 61288 Sbeih company                      107\n",
       "3094 - 24059 G.L.B. Cab Co                      106\n",
       "3011 - 66308 JBL Cab Inc.                       103\n",
       "1085 - 72312 N and W Cab Co                     101\n",
       "6743 - 78771 Luhak Corp                          93\n",
       "5874 - 73628 Sergey Cab Corp.                    90\n",
       "6574 - Babylon Express Inc.                      90\n",
       "5062 - 34841 Sam Mestas                          90\n",
       "5006 - 39261 Salifu Bawa                         83\n",
       "4053 - 40193 Adwar H. Nikola                     79\n",
       "3623 - 72222 Arrington Enterprises               78\n",
       "4787 - 56058 Reny Cab Co                         77\n",
       "Taxi Affiliation Service Yellow                  73\n",
       "Blue Diamond                                     73\n",
       "6742 - 83735 Tasha ride inc                      73\n",
       "Checker Taxi Affiliation                         65\n",
       "3620 - 52292 David K. Cab Corp.                  63\n",
       "3721 - Santamaria Express, Alvaro Santamaria     62\n",
       "3591 - 63480 Chuks Cab                           46\n",
       "4523 - 79481 Hazel Transit Inc                   20\n",
       "CMT-Sales                                         4\n",
       "Name: Company, dtype: int64"
      ]
     },
     "execution_count": 26,
     "metadata": {},
     "output_type": "execute_result"
    }
   ],
   "source": [
    "# Check all companies here\n",
    "taxi_2020_by_day_company.Company.value_counts()\n",
    "# Numbers here tell how many days companies were driving, not rides"
   ]
  },
  {
   "cell_type": "code",
   "execution_count": 27,
   "metadata": {},
   "outputs": [
    {
     "data": {
      "text/plain": [
       "50"
      ]
     },
     "execution_count": 27,
     "metadata": {},
     "output_type": "execute_result"
    }
   ],
   "source": [
    "# Calculate the number of companies\n",
    "taxi_2020_by_day_company.Company.value_counts().count()\n",
    "# As you can see, we have 50 companies"
   ]
  },
  {
   "cell_type": "code",
   "execution_count": 28,
   "metadata": {},
   "outputs": [
    {
     "name": "stdout",
     "output_type": "stream",
     "text": [
      "     Start Date                        Company  Rides\n",
      "0    2019-12-01    1085 - 72312 N and W Cab Co      4\n",
      "1    2019-12-01     2092 - 61288 Sbeih company      5\n",
      "2    2019-12-01                  24 Seven Taxi    279\n",
      "3    2019-12-01      3011 - 66308 JBL Cab Inc.      2\n",
      "4    2019-12-01     3094 - 24059 G.L.B. Cab Co     11\n",
      "...         ...                            ...    ...\n",
      "6362 2020-05-31  Taxicab Insurance Agency, LLC     17\n",
      "6363 2020-05-31            Top Cab Affiliation     70\n",
      "6364 2020-05-31                      U Taxicab     33\n",
      "6365 2020-06-01                      Flash Cab      6\n",
      "6366 2020-06-01      Taxi Affiliation Services      4\n",
      "\n",
      "[6367 rows x 3 columns]\n"
     ]
    }
   ],
   "source": [
    "# Let's group by rides now to identify the most popular companies with the biggest amount of rides\n",
    "taxi_2020_by_day_company_sum = taxi_2020_by_day_company.groupby('Company', as_index=False).agg({\"Rides\": \"sum\"}).sort_values('Rides', ascending = False)\n",
    "print(taxi_2020_by_day_company)"
   ]
  },
  {
   "cell_type": "code",
   "execution_count": 29,
   "metadata": {},
   "outputs": [
    {
     "name": "stdout",
     "output_type": "stream",
     "text": [
      "     Start Date                            Company  Rides\n",
      "18   2019-12-01  Blue Ribbon Taxi Association Inc.   1648\n",
      "20   2019-12-01          Chicago Carriage Cab Corp   3276\n",
      "24   2019-12-01            Choice Taxi Association   1011\n",
      "25   2019-12-01                       City Service   2353\n",
      "26   2019-12-01                          Flash Cab   5450\n",
      "...         ...                                ...    ...\n",
      "6360 2020-05-31                           Sun Taxi     60\n",
      "6361 2020-05-31          Taxi Affiliation Services    834\n",
      "6362 2020-05-31      Taxicab Insurance Agency, LLC     17\n",
      "6365 2020-06-01                          Flash Cab      6\n",
      "6366 2020-06-01          Taxi Affiliation Services      4\n",
      "\n",
      "[1798 rows x 3 columns]\n"
     ]
    }
   ],
   "source": [
    "# As we can see, there are 10 companies, whih had more from 1 mln to 100000 rides.\n",
    "# We need to subset these top 10 companies and identify patterns.\n",
    "top_10_companies_by_day = taxi_2020_by_day_company.loc[taxi_2020_by_day_company['Company'].\n",
    "                                                       isin(['Taxi Affiliation Services',\n",
    "                                                             'Flash Cab',\n",
    "                                                             'Chicago Carriage Cab Corp', \n",
    "                                                             'Sun Taxi',\n",
    "                                                             'City Service', \n",
    "                                                             'Medallion Leasin',\n",
    "                                                             'Star North Management LLC', \n",
    "                                                             'Blue Ribbon Taxi Association Inc.',\n",
    "                                                             'Taxicab Insurance Agency, LLC',\n",
    "                                                             'Choice Taxi Association'])]\n",
    "print(top_10_companies_by_day)"
   ]
  },
  {
   "cell_type": "code",
   "execution_count": 30,
   "metadata": {},
   "outputs": [
    {
     "name": "stdout",
     "output_type": "stream",
     "text": [
      "     Start_date                            Company  Rides\n",
      "18   2019-12-01  Blue Ribbon Taxi Association Inc.   1648\n",
      "20   2019-12-01          Chicago Carriage Cab Corp   3276\n",
      "24   2019-12-01            Choice Taxi Association   1011\n",
      "25   2019-12-01                       City Service   2353\n",
      "26   2019-12-01                          Flash Cab   5450\n",
      "...         ...                                ...    ...\n",
      "6360 2020-05-31                           Sun Taxi     60\n",
      "6361 2020-05-31          Taxi Affiliation Services    834\n",
      "6362 2020-05-31      Taxicab Insurance Agency, LLC     17\n",
      "6365 2020-06-01                          Flash Cab      6\n",
      "6366 2020-06-01          Taxi Affiliation Services      4\n",
      "\n",
      "[1798 rows x 3 columns]\n"
     ]
    }
   ],
   "source": [
    "top_10_companies_by_day = top_10_companies_by_day.rename(columns = {'Start Date': \"Start_date\"})\n",
    "print(top_10_companies_by_day)"
   ]
  },
  {
   "cell_type": "code",
   "execution_count": 31,
   "metadata": {},
   "outputs": [],
   "source": [
    "# Separate companies\n",
    "flash_cab = top_10_companies_by_day.loc[taxi_2020_by_day_company['Company'].isin(['Flash Cab'])]\n",
    "taxi_affiliation_services = top_10_companies_by_day.loc[taxi_2020_by_day_company['Company'].\n",
    "                                                        isin(['Taxi Affiliation Services'])]\n",
    "chicago_carriage_cab_corp = top_10_companies_by_day.loc[taxi_2020_by_day_company['Company'].isin(['Chicago Carriage Cab Corp'])]\n",
    "sun_taxi = top_10_companies_by_day.loc[taxi_2020_by_day_company['Company'].isin(['Sun Taxi'])]\n",
    "city_service = top_10_companies_by_day.loc[taxi_2020_by_day_company['Company'].isin(['City Service'])]"
   ]
  },
  {
   "cell_type": "code",
   "execution_count": 127,
   "metadata": {
    "scrolled": true
   },
   "outputs": [
    {
     "data": {
      "image/png": "[encoded data removed]",
      "text/plain": [
       "<Figure size 360x360 with 1 Axes>"
      ]
     },
     "metadata": {
      "needs_background": "light"
     },
     "output_type": "display_data"
    }
   ],
   "source": [
    "# Plot top 5 companies\n",
    "plt.rcParams['figure.figsize'] = (5, 5)\n",
    "plt.plot(taxi_affiliation_services.Start_date, taxi_affiliation_services.Rides, label = 'Taxi Affiliation Services')\n",
    "plt.plot(flash_cab.Start_date, flash_cab.Rides, label = 'Flash Cab')\n",
    "plt.plot(chicago_carriage_cab_corp.Start_date, chicago_carriage_cab_corp.Rides, label = 'Chicago Carriage Cab Corp')\n",
    "plt.plot(sun_taxi.Start_date, sun_taxi.Rides, label = 'Sun Taxi')\n",
    "plt.plot(city_service.Start_date, city_service.Rides, label = 'City Service')\n",
    "# plt.title('Top 5 taxi companies in Chicago faced a dramatic drop of traffic due to COVID-19')\n",
    "plt.legend()\n",
    "plt.show()\n",
    "# The interesting point that Flash Cab became the most popular company since COVID started, \n",
    "# beating Chicago Affiliation Services, which previous had 40% market advantage. \n",
    "# It looks like Flash Cab anticrisis handles are a bit better. "
   ]
  },
  {
   "cell_type": "markdown",
   "metadata": {},
   "source": [
    "### 2. Exploring the changes in rides behavior (duration, hours, distance) before and After COVID-19"
   ]
  },
  {
   "cell_type": "code",
   "execution_count": 33,
   "metadata": {},
   "outputs": [
    {
     "name": "stdout",
     "output_type": "stream",
     "text": [
      "                                             Taxi ID Trip Start Timestamp  \\\n",
      "0  bbf91e67201de7487dbeb23021a9a741e36d8d65175def...  2019-12-01 00:15:00   \n",
      "1  b83ba3da1a4bc2a686d885ec2f802c3f256c518d93816c...  2019-12-01 00:15:00   \n",
      "2  53c01ec83313fee495650d2294b7c88ade2f3d82f3acd0...  2019-12-01 00:15:00   \n",
      "3  ef5e9c8f0da412a5961a77ad3da965c641e08eb1ddd19f...  2019-12-01 00:15:00   \n",
      "4  71cf25528ebc98e11ac91a5d359776a91874e7f6047cb8...  2019-12-01 00:15:00   \n",
      "\n",
      "   Trip End Timestamp  Trip Seconds  Trip Miles  Pickup Census Tract  \\\n",
      "0 2019-12-01 00:30:00         600.0         0.1         1.703184e+10   \n",
      "1 2019-12-01 00:15:00         180.0         0.0                  NaN   \n",
      "2 2019-12-01 00:30:00         380.0         1.2                  NaN   \n",
      "3 2019-12-01 00:30:00         780.0         2.0         1.703184e+10   \n",
      "4 2019-12-01 00:30:00         720.0         3.1         1.703128e+10   \n",
      "\n",
      "   Dropoff Census Tract  Pickup Community Area  Dropoff Community Area   Fare  \\\n",
      "0          1.703108e+10                   32.0                     8.0   8.75   \n",
      "1                   NaN                    7.0                     6.0   5.00   \n",
      "2                   NaN                   14.0                    16.0   6.25   \n",
      "3          1.703108e+10                   32.0                     8.0   9.25   \n",
      "4          1.703107e+10                   28.0                     7.0  11.50   \n",
      "\n",
      "   ...  Pickup Centroid Latitude  Pickup Centroid Longitude  \\\n",
      "0  ...                    41.881                 -87.632746   \n",
      "1  ...                   41.9227                 -87.649489   \n",
      "2  ...                   41.9681                 -87.721559   \n",
      "3  ...                    41.881                 -87.632746   \n",
      "4  ...                   41.8793                 -87.642649   \n",
      "\n",
      "               Pickup Centroid Location  Dropoff Centroid Latitude  \\\n",
      "0  POINT (-87.6327464887 41.8809944707)                  41.899156   \n",
      "1  POINT (-87.6494887289 41.9226862843)                  41.944227   \n",
      "2      POINT (-87.7215590627 41.968069)                  41.953582   \n",
      "3  POINT (-87.6327464887 41.8809944707)                  41.899156   \n",
      "4   POINT (-87.642648998 41.8792550844)                  41.922083   \n",
      "\n",
      "  Dropoff Centroid Longitude            Dropoff Centroid  Location Start Date  \\\n",
      "0                 -87.626211  POINT (-87.6262105324 41.8991556134) 2019-12-01   \n",
      "1                 -87.655998  POINT (-87.6559981815 41.9442266014) 2019-12-01   \n",
      "2                 -87.723452  POINT (-87.7234523905 41.9535821253) 2019-12-01   \n",
      "3                 -87.626211  POINT (-87.6262105324 41.8991556134) 2019-12-01   \n",
      "4                 -87.634156   POINT (-87.6341560931 41.922082541) 2019-12-01   \n",
      "\n",
      "   Start Time   End Date  End Time  \n",
      "0    00:15:00 2019-12-01  00:30:00  \n",
      "1    00:15:00 2019-12-01  00:15:00  \n",
      "2    00:15:00 2019-12-01  00:30:00  \n",
      "3    00:15:00 2019-12-01  00:30:00  \n",
      "4    00:15:00 2019-12-01  00:30:00  \n",
      "\n",
      "[5 rows x 26 columns]\n"
     ]
    }
   ],
   "source": [
    "# Let's print the initial dataframe first\n",
    "print(taxi_2020.head())"
   ]
  },
  {
   "cell_type": "code",
   "execution_count": 34,
   "metadata": {},
   "outputs": [
    {
     "data": {
      "text/plain": [
       "Taxi ID                               object\n",
       "Trip Start Timestamp          datetime64[ns]\n",
       "Trip End Timestamp            datetime64[ns]\n",
       "Trip Seconds                         float64\n",
       "Trip Miles                           float64\n",
       "Pickup Census Tract                  float64\n",
       "Dropoff Census Tract                 float64\n",
       "Pickup Community Area                float64\n",
       "Dropoff Community Area               float64\n",
       "Fare                                 float64\n",
       "Tips                                 float64\n",
       "Tolls                                float64\n",
       "Extras                               float64\n",
       "Trip Total                           float64\n",
       "Payment Type                          object\n",
       "Company                               object\n",
       "Pickup Centroid Latitude              object\n",
       "Pickup Centroid Longitude            float64\n",
       "Pickup Centroid Location              object\n",
       "Dropoff Centroid Latitude            float64\n",
       "Dropoff Centroid Longitude           float64\n",
       "Dropoff Centroid  Location            object\n",
       "Start Date                    datetime64[ns]\n",
       "Start Time                            object\n",
       "End Date                      datetime64[ns]\n",
       "End Time                              object\n",
       "dtype: object"
      ]
     },
     "execution_count": 34,
     "metadata": {},
     "output_type": "execute_result"
    }
   ],
   "source": [
    "# And double check again the types of the columns\n",
    "taxi_2020.dtypes\n",
    "# As you can see, Start Date remains the datetime type."
   ]
  },
  {
   "cell_type": "code",
   "execution_count": 35,
   "metadata": {},
   "outputs": [
    {
     "name": "stdout",
     "output_type": "stream",
     "text": [
      "        Start Date  Trip Seconds\n",
      "0       2019-12-01         600.0\n",
      "1       2019-12-01         180.0\n",
      "2       2019-12-01         380.0\n",
      "3       2019-12-01         780.0\n",
      "4       2019-12-01         720.0\n",
      "...            ...           ...\n",
      "4137289 2020-06-01        1080.0\n",
      "4137290 2020-06-01          35.0\n",
      "4137291 2020-06-01         556.0\n",
      "4137292 2020-06-01         480.0\n",
      "4137293 2020-06-01         300.0\n",
      "\n",
      "[4137294 rows x 2 columns]\n"
     ]
    }
   ],
   "source": [
    "# let's find if the duration of trips changed. Maybe clients started to use taxis for different purposes?\n",
    "duration = taxi_2020[['Start Date','Trip Seconds']]\n",
    "print(duration)"
   ]
  },
  {
   "cell_type": "code",
   "execution_count": 36,
   "metadata": {},
   "outputs": [
    {
     "name": "stdout",
     "output_type": "stream",
     "text": [
      "    Start Date  Trip Seconds\n",
      "0   2019-12-01   1024.181542\n",
      "1   2019-12-02    892.024116\n",
      "2   2019-12-03    844.335562\n",
      "3   2019-12-04    923.672729\n",
      "4   2019-12-05    978.543716\n",
      "..         ...           ...\n",
      "179 2020-05-28    970.165624\n",
      "180 2020-05-29   1043.809222\n",
      "181 2020-05-30   1171.479933\n",
      "182 2020-05-31   1165.951500\n",
      "183 2020-06-01    675.800000\n",
      "\n",
      "[184 rows x 2 columns]\n"
     ]
    }
   ],
   "source": [
    "# Now let's group the infomation here\n",
    "duration_by_day = duration.groupby('Start Date', as_index=False).agg({\"Trip Seconds\": \"mean\"})\n",
    "print(duration_by_day)"
   ]
  },
  {
   "cell_type": "code",
   "execution_count": 37,
   "metadata": {},
   "outputs": [
    {
     "name": "stdout",
     "output_type": "stream",
     "text": [
      "    Start Date  Trip Seconds\n",
      "0   2019-12-01        1024.0\n",
      "1   2019-12-02         892.0\n",
      "2   2019-12-03         844.0\n",
      "3   2019-12-04         924.0\n",
      "4   2019-12-05         979.0\n",
      "..         ...           ...\n",
      "179 2020-05-28         970.0\n",
      "180 2020-05-29        1044.0\n",
      "181 2020-05-30        1171.0\n",
      "182 2020-05-31        1166.0\n",
      "183 2020-06-01         676.0\n",
      "\n",
      "[184 rows x 2 columns]\n"
     ]
    }
   ],
   "source": [
    "# As we can see, our trips are not rounded, let's do it\n",
    "duration_by_day = duration_by_day.round()\n",
    "print(duration_by_day)"
   ]
  },
  {
   "cell_type": "code",
   "execution_count": 38,
   "metadata": {},
   "outputs": [
    {
     "name": "stdout",
     "output_type": "stream",
     "text": [
      "    Start_date  Seconds\n",
      "0   2019-12-01   1024.0\n",
      "1   2019-12-02    892.0\n",
      "2   2019-12-03    844.0\n",
      "3   2019-12-04    924.0\n",
      "4   2019-12-05    979.0\n",
      "..         ...      ...\n",
      "179 2020-05-28    970.0\n",
      "180 2020-05-29   1044.0\n",
      "181 2020-05-30   1171.0\n",
      "182 2020-05-31   1166.0\n",
      "183 2020-06-01    676.0\n",
      "\n",
      "[184 rows x 2 columns]\n"
     ]
    }
   ],
   "source": [
    "# Also let's rename the column names\n",
    "duration_by_day = duration_by_day.rename(columns = {'Start Date': 'Start_date', 'Trip Seconds': 'Seconds'})\n",
    "print(duration_by_day)"
   ]
  },
  {
   "cell_type": "code",
   "execution_count": 128,
   "metadata": {},
   "outputs": [
    {
     "data": {
      "image/png": "[encoded data removed]",
      "text/plain": [
       "<Figure size 720x720 with 1 Axes>"
      ]
     },
     "metadata": {
      "needs_background": "light"
     },
     "output_type": "display_data"
    }
   ],
   "source": [
    "# Average duration of a trip by day\n",
    "plt.rcParams['figure.figsize'] = (10,10)\n",
    "plt.plot(duration_by_day.Start_date, duration_by_day.Seconds)\n",
    "# plt.title('The average duration of a taxi trip (in seconds) changed after COVID-19')\n",
    "plt.show()\n",
    "# As we can, see the behavior of customers changed. Now they make longer trips (also keep the lighter traffic in mind).\n",
    "# The average trip in seconds increased approximately by 3 minutes (about 200 seconds. )"
   ]
  },
  {
   "cell_type": "code",
   "execution_count": 40,
   "metadata": {},
   "outputs": [
    {
     "name": "stdout",
     "output_type": "stream",
     "text": [
      "        Start Date  Trip Miles\n",
      "0       2019-12-01        0.10\n",
      "1       2019-12-01        0.00\n",
      "2       2019-12-01        1.20\n",
      "3       2019-12-01        2.00\n",
      "4       2019-12-01        3.10\n",
      "...            ...         ...\n",
      "4137289 2020-06-01       14.00\n",
      "4137290 2020-06-01        0.00\n",
      "4137291 2020-06-01        0.55\n",
      "4137292 2020-06-01        0.10\n",
      "4137293 2020-06-01        0.00\n",
      "\n",
      "[4137294 rows x 2 columns]\n"
     ]
    }
   ],
   "source": [
    "# Now we can test our hypothesis that the milleage of an average taxi trip increased.\n",
    "mileage = taxi_2020[['Start Date','Trip Miles']]\n",
    "print(mileage)"
   ]
  },
  {
   "cell_type": "code",
   "execution_count": 41,
   "metadata": {},
   "outputs": [
    {
     "name": "stdout",
     "output_type": "stream",
     "text": [
      "    Start Date  Trip Miles\n",
      "0   2019-12-01    5.208241\n",
      "1   2019-12-02    3.845584\n",
      "2   2019-12-03    3.354167\n",
      "3   2019-12-04    3.636845\n",
      "4   2019-12-05    3.817315\n",
      "..         ...         ...\n",
      "179 2020-05-28    3.886781\n",
      "180 2020-05-29    4.071920\n",
      "181 2020-05-30    4.301445\n",
      "182 2020-05-31    5.447486\n",
      "183 2020-06-01    3.821000\n",
      "\n",
      "[184 rows x 2 columns]\n"
     ]
    }
   ],
   "source": [
    "# Now let's group the infomation here\n",
    "mileage_by_day = mileage.groupby('Start Date', as_index = False).agg({\"Trip Miles\": \"mean\"})\n",
    "print(mileage_by_day)"
   ]
  },
  {
   "cell_type": "code",
   "execution_count": 42,
   "metadata": {},
   "outputs": [
    {
     "name": "stdout",
     "output_type": "stream",
     "text": [
      "    Start_date     Miles\n",
      "0   2019-12-01  5.208241\n",
      "1   2019-12-02  3.845584\n",
      "2   2019-12-03  3.354167\n",
      "3   2019-12-04  3.636845\n",
      "4   2019-12-05  3.817315\n",
      "..         ...       ...\n",
      "179 2020-05-28  3.886781\n",
      "180 2020-05-29  4.071920\n",
      "181 2020-05-30  4.301445\n",
      "182 2020-05-31  5.447486\n",
      "183 2020-06-01  3.821000\n",
      "\n",
      "[184 rows x 2 columns]\n"
     ]
    }
   ],
   "source": [
    "# Also let's rename the column names, should have done this in the beginning\n",
    "mileage_by_day = mileage_by_day.rename(columns = {'Start Date': 'Start_date', 'Trip Miles': 'Miles'})\n",
    "print(mileage_by_day)"
   ]
  },
  {
   "cell_type": "code",
   "execution_count": 129,
   "metadata": {},
   "outputs": [
    {
     "data": {
      "image/png": "[encoded data removed]",
      "text/plain": [
       "<Figure size 720x720 with 1 Axes>"
      ]
     },
     "metadata": {
      "needs_background": "light"
     },
     "output_type": "display_data"
    }
   ],
   "source": [
    "# Average milleage of a trip by day\n",
    "plt.rcParams['figure.figsize'] = (10,10)\n",
    "plt.plot(mileage_by_day.Start_date, mileage_by_day.Miles)\n",
    "# plt.title('The average mileage of a taxi trip (in miles) changed after COVID-19')\n",
    "plt.show()\n",
    "# As we can see, an average milage of a trip also increased for about 1 mile"
   ]
  },
  {
   "cell_type": "code",
   "execution_count": 45,
   "metadata": {},
   "outputs": [
    {
     "name": "stdout",
     "output_type": "stream",
     "text": [
      "        Time  Rides\n",
      "0   00:00:00  24005\n",
      "1   00:15:00  22815\n",
      "2   00:30:00  20438\n",
      "3   00:45:00  19012\n",
      "4   01:00:00  18082\n",
      "..       ...    ...\n",
      "91  22:45:00  32365\n",
      "92  23:00:00  31815\n",
      "93  23:15:00  29582\n",
      "94  23:30:00  26903\n",
      "95  23:45:00  24599\n",
      "\n",
      "[96 rows x 2 columns]\n"
     ]
    }
   ],
   "source": [
    "# Now let' explore the trend by hours\n",
    "# Select the column\n",
    "rides_by_hour = taxi_2020['Start Time']\n",
    "# Count \n",
    "rides_by_hour = rides_by_hour.value_counts().sort_index().reset_index()\n",
    "# Rename columns\n",
    "rides_by_hour = rides_by_hour.rename(columns = {'index': \"Time\", 'Start Time': 'Rides'})\n",
    "print(rides_by_hour)"
   ]
  },
  {
   "cell_type": "code",
   "execution_count": 46,
   "metadata": {},
   "outputs": [
    {
     "data": {
      "text/plain": [
       "Time     object\n",
       "Rides     int64\n",
       "dtype: object"
      ]
     },
     "execution_count": 46,
     "metadata": {},
     "output_type": "execute_result"
    }
   ],
   "source": [
    "# Check types of columns\n",
    "rides_by_hour.dtypes"
   ]
  },
  {
   "cell_type": "code",
   "execution_count": 47,
   "metadata": {
    "scrolled": true
   },
   "outputs": [
    {
     "data": {
      "text/html": [
       "<div>\n",
       "<style scoped>\n",
       "    .dataframe tbody tr th:only-of-type {\n",
       "        vertical-align: middle;\n",
       "    }\n",
       "\n",
       "    .dataframe tbody tr th {\n",
       "        vertical-align: top;\n",
       "    }\n",
       "\n",
       "    .dataframe thead th {\n",
       "        text-align: right;\n",
       "    }\n",
       "</style>\n",
       "<table border=\"1\" class=\"dataframe\">\n",
       "  <thead>\n",
       "    <tr style=\"text-align: right;\">\n",
       "      <th></th>\n",
       "      <th>Time</th>\n",
       "      <th>Rides</th>\n",
       "      <th>hour</th>\n",
       "    </tr>\n",
       "  </thead>\n",
       "  <tbody>\n",
       "    <tr>\n",
       "      <td>0</td>\n",
       "      <td>00:00:00</td>\n",
       "      <td>24005</td>\n",
       "      <td>0</td>\n",
       "    </tr>\n",
       "    <tr>\n",
       "      <td>1</td>\n",
       "      <td>00:15:00</td>\n",
       "      <td>22815</td>\n",
       "      <td>0</td>\n",
       "    </tr>\n",
       "    <tr>\n",
       "      <td>2</td>\n",
       "      <td>00:30:00</td>\n",
       "      <td>20438</td>\n",
       "      <td>0</td>\n",
       "    </tr>\n",
       "    <tr>\n",
       "      <td>3</td>\n",
       "      <td>00:45:00</td>\n",
       "      <td>19012</td>\n",
       "      <td>0</td>\n",
       "    </tr>\n",
       "    <tr>\n",
       "      <td>4</td>\n",
       "      <td>01:00:00</td>\n",
       "      <td>18082</td>\n",
       "      <td>1</td>\n",
       "    </tr>\n",
       "    <tr>\n",
       "      <td>...</td>\n",
       "      <td>...</td>\n",
       "      <td>...</td>\n",
       "      <td>...</td>\n",
       "    </tr>\n",
       "    <tr>\n",
       "      <td>91</td>\n",
       "      <td>22:45:00</td>\n",
       "      <td>32365</td>\n",
       "      <td>22</td>\n",
       "    </tr>\n",
       "    <tr>\n",
       "      <td>92</td>\n",
       "      <td>23:00:00</td>\n",
       "      <td>31815</td>\n",
       "      <td>23</td>\n",
       "    </tr>\n",
       "    <tr>\n",
       "      <td>93</td>\n",
       "      <td>23:15:00</td>\n",
       "      <td>29582</td>\n",
       "      <td>23</td>\n",
       "    </tr>\n",
       "    <tr>\n",
       "      <td>94</td>\n",
       "      <td>23:30:00</td>\n",
       "      <td>26903</td>\n",
       "      <td>23</td>\n",
       "    </tr>\n",
       "    <tr>\n",
       "      <td>95</td>\n",
       "      <td>23:45:00</td>\n",
       "      <td>24599</td>\n",
       "      <td>23</td>\n",
       "    </tr>\n",
       "  </tbody>\n",
       "</table>\n",
       "<p>96 rows × 3 columns</p>\n",
       "</div>"
      ],
      "text/plain": [
       "        Time  Rides  hour\n",
       "0   00:00:00  24005     0\n",
       "1   00:15:00  22815     0\n",
       "2   00:30:00  20438     0\n",
       "3   00:45:00  19012     0\n",
       "4   01:00:00  18082     1\n",
       "..       ...    ...   ...\n",
       "91  22:45:00  32365    22\n",
       "92  23:00:00  31815    23\n",
       "93  23:15:00  29582    23\n",
       "94  23:30:00  26903    23\n",
       "95  23:45:00  24599    23\n",
       "\n",
       "[96 rows x 3 columns]"
      ]
     },
     "execution_count": 47,
     "metadata": {},
     "output_type": "execute_result"
    }
   ],
   "source": [
    "rides_by_hour['hour'] = pd.to_datetime(rides_by_hour['Time'], format = '%H:%M:%S').dt.hour\n",
    "rides_by_hour"
   ]
  },
  {
   "cell_type": "code",
   "execution_count": 48,
   "metadata": {},
   "outputs": [
    {
     "name": "stdout",
     "output_type": "stream",
     "text": [
      "    hour   Rides\n",
      "0      0   86270\n",
      "1      1   68432\n",
      "2      2   53376\n",
      "3      3   42701\n",
      "4      4   34938\n",
      "5      5   34592\n",
      "6      6   55747\n",
      "7      7  118599\n",
      "8      8  191586\n",
      "9      9  216739\n",
      "10    10  206382\n",
      "11    11  222586\n",
      "12    12  243562\n",
      "13    13  251466\n",
      "14    14  253326\n",
      "15    15  260180\n",
      "16    16  285952\n",
      "17    17  310775\n",
      "18    18  299606\n",
      "19    19  258616\n",
      "20    20  210621\n",
      "21    21  173804\n",
      "22    22  144425\n",
      "23    23  112899\n"
     ]
    }
   ],
   "source": [
    "rides_by_hour = rides_by_hour.groupby('hour', as_index=False).agg({\"Rides\": \"sum\"})\n",
    "print(rides_by_hour)"
   ]
  },
  {
   "cell_type": "code",
   "execution_count": 49,
   "metadata": {},
   "outputs": [
    {
     "data": {
      "image/png": "[encoded data removed]",
      "text/plain": [
       "<Figure size 720x720 with 1 Axes>"
      ]
     },
     "metadata": {
      "needs_background": "light"
     },
     "output_type": "display_data"
    }
   ],
   "source": [
    "# Now let's create a a barplot\n",
    "fig = plt.figure()\n",
    "ax = fig.add_axes([0,0,1,1])\n",
    "ax.bar(rides_by_hour.hour, rides_by_hour.Rides)\n",
    "plt.xticks(rides_by_hour.hour)\n",
    "plt.title('Chicago taxi rides by hour (December 2019 - June 2020)')\n",
    "plt.show()"
   ]
  },
  {
   "cell_type": "code",
   "execution_count": 61,
   "metadata": {},
   "outputs": [],
   "source": [
    "# Now let's compare information from two time periods\n",
    "# First, I will cut information from December 2019 to March 2020 and from April 2020 to mid-June-2020\n",
    "taxi1 = taxi_2020[(taxi_2020['Start Date'] > '2019-12-01') & (taxi_2020['Start Date'] <= '2020-03-31')]\n",
    "taxi2 = taxi_2020[(taxi_2020['Start Date'] > '2020-04-01') & (taxi_2020['Start Date'] <= '2020-06-15')]"
   ]
  },
  {
   "cell_type": "code",
   "execution_count": 62,
   "metadata": {},
   "outputs": [
    {
     "name": "stdout",
     "output_type": "stream",
     "text": [
      "                                                 Taxi ID Trip Start Timestamp  \\\n",
      "33571  df20a533d377315e42c36444c2dd760936f6742427dbd8...           2019-12-02   \n",
      "33572  7bc990a07a5c8b53e6b1e2a92df55a40ac664b828d6f57...           2019-12-02   \n",
      "33573  9e36bbce1658ed60bd457bb2187c3a1ed4f47714110ac4...           2019-12-02   \n",
      "33574  0574d247700e50d1fb996084c8b1c649bf57effe419a6d...           2019-12-02   \n",
      "33575  6bc3520aa3e5055fdd502ad4db2b419e40a2579182d817...           2019-12-02   \n",
      "\n",
      "       Trip End Timestamp  Trip Seconds  Trip Miles  Pickup Census Tract  \\\n",
      "33571 2019-12-02 00:15:00         509.0        4.43         1.703198e+10   \n",
      "33572 2019-12-02 00:15:00         780.0        2.00         1.703183e+10   \n",
      "33573 2019-12-02 00:30:00        1920.0       14.40                  NaN   \n",
      "33574 2019-12-02 00:30:00        1463.0       17.86         1.703198e+10   \n",
      "33575 2019-12-02 00:15:00         774.0        3.34                  NaN   \n",
      "\n",
      "       Dropoff Census Tract  Pickup Community Area  Dropoff Community Area  \\\n",
      "33571          1.703198e+10                   76.0                    76.0   \n",
      "33572          1.703108e+10                   28.0                     8.0   \n",
      "33573                   NaN                    8.0                    77.0   \n",
      "33574          1.703108e+10                   76.0                     8.0   \n",
      "33575                   NaN                    8.0                    33.0   \n",
      "\n",
      "        Fare  ...  Pickup Centroid Latitude  Pickup Centroid Longitude  \\\n",
      "33571  13.50  ...                   41.9791                 -87.903040   \n",
      "33572   9.75  ...                   41.8853                 -87.657233   \n",
      "33573  37.25  ...                   41.8996                 -87.633308   \n",
      "33574  44.25  ...                   41.9791                 -87.903040   \n",
      "33575  12.00  ...                   41.8996                 -87.633308   \n",
      "\n",
      "                   Pickup Centroid Location  Dropoff Centroid Latitude  \\\n",
      "33571  POINT (-87.9030396611 41.9790708201)                  41.979071   \n",
      "33572  POINT (-87.6572331997 41.8852813201)                  41.899156   \n",
      "33573   POINT (-87.6333080367 41.899602111)                  41.986712   \n",
      "33574  POINT (-87.9030396611 41.9790708201)                  41.895033   \n",
      "33575   POINT (-87.6333080367 41.899602111)                  41.857184   \n",
      "\n",
      "      Dropoff Centroid Longitude            Dropoff Centroid  Location  \\\n",
      "33571                 -87.903040  POINT (-87.9030396611 41.9790708201)   \n",
      "33572                 -87.626211  POINT (-87.6262105324 41.8991556134)   \n",
      "33573                 -87.663416  POINT (-87.6634164054 41.9867117999)   \n",
      "33574                 -87.619711  POINT (-87.6197106717 41.8950334495)   \n",
      "33575                 -87.620335  POINT (-87.6203346241 41.8571838585)   \n",
      "\n",
      "      Start Date  Start Time   End Date  End Time  \n",
      "33571 2019-12-02    00:00:00 2019-12-02  00:15:00  \n",
      "33572 2019-12-02    00:00:00 2019-12-02  00:15:00  \n",
      "33573 2019-12-02    00:00:00 2019-12-02  00:30:00  \n",
      "33574 2019-12-02    00:00:00 2019-12-02  00:30:00  \n",
      "33575 2019-12-02    00:00:00 2019-12-02  00:15:00  \n",
      "\n",
      "[5 rows x 26 columns]\n",
      "                                                   Taxi ID  \\\n",
      "4012468  af771330ba6467d2172d6fbdbcca2a1d90ee0b908f280d...   \n",
      "4012469  bf0b987f41a8c368a072da293f9fb1aecc8a39763ab6a4...   \n",
      "4012470  2b4a8f4987a1230a1c6dd6212e33e1b58e7b7a513a93f4...   \n",
      "4012471  3ce4fc90cbd3376aa82949f32cbae53a84afa8e8854886...   \n",
      "4012472  950af3418bda33a809615e29c0592a6ab8ed5f47917343...   \n",
      "\n",
      "        Trip Start Timestamp  Trip End Timestamp  Trip Seconds  Trip Miles  \\\n",
      "4012468           2020-04-02 2020-04-02 00:15:00        1200.0       10.01   \n",
      "4012469           2020-04-02 2020-04-02 00:15:00         307.0        0.70   \n",
      "4012470           2020-04-02 2020-04-02 00:15:00         720.0        0.20   \n",
      "4012471           2020-04-02 2020-04-02 00:00:00         209.0        0.72   \n",
      "4012472           2020-04-02 2020-04-02 00:15:00         699.0        5.22   \n",
      "\n",
      "         Pickup Census Tract  Dropoff Census Tract  Pickup Community Area  \\\n",
      "4012468                  NaN                   NaN                   35.0   \n",
      "4012469                  NaN                   NaN                   11.0   \n",
      "4012470                  NaN                   NaN                   20.0   \n",
      "4012471                  NaN                   NaN                    8.0   \n",
      "4012472                  NaN                   NaN                    NaN   \n",
      "\n",
      "         Dropoff Community Area   Fare  ...  Pickup Centroid Latitude  \\\n",
      "4012468                    46.0  26.25  ...                   41.8351   \n",
      "4012469                    15.0   5.00  ...                   41.9788   \n",
      "4012470                    24.0  12.25  ...                   41.9243   \n",
      "4012471                     8.0   5.25  ...                   41.8996   \n",
      "4012472                    67.0  15.75  ...                       NaN   \n",
      "\n",
      "         Pickup Centroid Longitude              Pickup Centroid Location  \\\n",
      "4012468                 -87.618678  POINT (-87.6186777673 41.8351179863)   \n",
      "4012469                 -87.771167   POINT (-87.771166703 41.9788295262)   \n",
      "4012470                 -87.734740  POINT (-87.7347397536 41.9243470769)   \n",
      "4012471                 -87.633308   POINT (-87.6333080367 41.899602111)   \n",
      "4012472                        NaN                                   NaN   \n",
      "\n",
      "         Dropoff Centroid Latitude Dropoff Centroid Longitude  \\\n",
      "4012468                  41.741243                 -87.551428   \n",
      "4012469                  41.954028                 -87.763399   \n",
      "4012470                  41.901207                 -87.676356   \n",
      "4012471                  41.899602                 -87.633308   \n",
      "4012472                  41.775929                 -87.666596   \n",
      "\n",
      "                   Dropoff Centroid  Location Start Date  Start Time  \\\n",
      "4012468   POINT (-87.551428197 41.7412427285) 2020-04-02    00:00:00   \n",
      "4012469  POINT (-87.7633990316 41.9540276487) 2020-04-02    00:00:00   \n",
      "4012470  POINT (-87.6763559892 41.9012069941) 2020-04-02    00:00:00   \n",
      "4012471   POINT (-87.6333080367 41.899602111) 2020-04-02    00:00:00   \n",
      "4012472  POINT (-87.6665962653 41.7759288274) 2020-04-02    00:00:00   \n",
      "\n",
      "          End Date  End Time  \n",
      "4012468 2020-04-02  00:15:00  \n",
      "4012469 2020-04-02  00:15:00  \n",
      "4012470 2020-04-02  00:15:00  \n",
      "4012471 2020-04-02  00:00:00  \n",
      "4012472 2020-04-02  00:15:00  \n",
      "\n",
      "[5 rows x 26 columns]\n"
     ]
    }
   ],
   "source": [
    "# Check data\n",
    "print(taxi1.head()) # 3976316\n",
    "print(taxi2.head()) # 124826"
   ]
  },
  {
   "cell_type": "code",
   "execution_count": 69,
   "metadata": {},
   "outputs": [
    {
     "name": "stdout",
     "output_type": "stream",
     "text": [
      "        Time  Rides\n",
      "0   00:00:00  23342\n",
      "1   00:15:00  21969\n",
      "2   00:30:00  19670\n",
      "3   00:45:00  18287\n",
      "4   01:00:00  17470\n",
      "..       ...    ...\n",
      "91  22:45:00  31155\n",
      "92  23:00:00  30615\n",
      "93  23:15:00  28519\n",
      "94  23:30:00  25867\n",
      "95  23:45:00  23694\n",
      "\n",
      "[96 rows x 2 columns]\n",
      "        Time  Rides\n",
      "0   00:00:00    655\n",
      "1   00:15:00    496\n",
      "2   00:30:00    421\n",
      "3   00:45:00    377\n",
      "4   01:00:00    300\n",
      "..       ...    ...\n",
      "91  22:45:00    795\n",
      "92  23:00:00    861\n",
      "93  23:15:00    718\n",
      "94  23:30:00    687\n",
      "95  23:45:00    589\n",
      "\n",
      "[96 rows x 2 columns]\n"
     ]
    }
   ],
   "source": [
    "# Now let's do the same in terms of hours for each dataset, we want to compare them.\n",
    "# Let's explore the information for the first dataset\n",
    "# Select the column\n",
    "rides_by_hour1 = taxi1['Start Time']\n",
    "# Count \n",
    "rides_by_hour1 = rides_by_hour1.value_counts().sort_index().reset_index()\n",
    "# Rename columns\n",
    "rides_by_hour1 = rides_by_hour1.rename(columns = {'index': \"Time\", 'Start Time': 'Rides'})\n",
    "print(rides_by_hour1)\n",
    "\n",
    "# And do the same for the second dataset\n",
    "rides_by_hour2 = taxi2['Start Time']\n",
    "# Count \n",
    "rides_by_hour2 = rides_by_hour2.value_counts().sort_index().reset_index()\n",
    "# Rename columns\n",
    "rides_by_hour2 = rides_by_hour2.rename(columns = {'index': \"Time\", 'Start Time': 'Rides'})\n",
    "print(rides_by_hour2)"
   ]
  },
  {
   "cell_type": "code",
   "execution_count": 71,
   "metadata": {},
   "outputs": [
    {
     "name": "stdout",
     "output_type": "stream",
     "text": [
      "        Time  Rides  hour\n",
      "0   00:00:00  23342     0\n",
      "1   00:15:00  21969     0\n",
      "2   00:30:00  19670     0\n",
      "3   00:45:00  18287     0\n",
      "4   01:00:00  17470     1\n",
      "..       ...    ...   ...\n",
      "91  22:45:00  31155    22\n",
      "92  23:00:00  30615    23\n",
      "93  23:15:00  28519    23\n",
      "94  23:30:00  25867    23\n",
      "95  23:45:00  23694    23\n",
      "\n",
      "[96 rows x 3 columns]\n",
      "        Time  Rides  hour\n",
      "0   00:00:00    655     0\n",
      "1   00:15:00    496     0\n",
      "2   00:30:00    421     0\n",
      "3   00:45:00    377     0\n",
      "4   01:00:00    300     1\n",
      "..       ...    ...   ...\n",
      "91  22:45:00    795    22\n",
      "92  23:00:00    861    23\n",
      "93  23:15:00    718    23\n",
      "94  23:30:00    687    23\n",
      "95  23:45:00    589    23\n",
      "\n",
      "[96 rows x 3 columns]\n"
     ]
    }
   ],
   "source": [
    "# Now let's create hours\n",
    "rides_by_hour1['hour'] = pd.to_datetime(rides_by_hour1['Time'], format = '%H:%M:%S').dt.hour\n",
    "print(rides_by_hour1)\n",
    "\n",
    "rides_by_hour2['hour'] = pd.to_datetime(rides_by_hour2['Time'], format = '%H:%M:%S').dt.hour\n",
    "print(rides_by_hour2)"
   ]
  },
  {
   "cell_type": "code",
   "execution_count": 72,
   "metadata": {},
   "outputs": [
    {
     "name": "stdout",
     "output_type": "stream",
     "text": [
      "    hour   Rides\n",
      "0      0   83268\n",
      "1      1   66048\n",
      "2      2   51447\n",
      "3      3   40936\n",
      "4      4   32916\n",
      "5      5   32201\n",
      "6      6   52450\n",
      "7      7  113786\n",
      "8      8  185212\n",
      "9      9  208684\n",
      "10    10  197006\n",
      "11    11  212657\n",
      "12    12  232917\n",
      "13    13  240367\n",
      "14    14  241860\n",
      "15    15  248194\n",
      "16    16  274248\n",
      "17    17  299699\n",
      "18    18  290436\n",
      "19    19  250774\n",
      "20    20  204339\n",
      "21    21  168653\n",
      "22    22  139523\n",
      "23    23  108695\n",
      "    hour  Rides\n",
      "0      0   1949\n",
      "1      1   1125\n",
      "2      2    795\n",
      "3      3    831\n",
      "4      4   1292\n",
      "5      5   1871\n",
      "6      6   2856\n",
      "7      7   4119\n",
      "8      8   5337\n",
      "9      9   6807\n",
      "10    10   7961\n",
      "11    11   8463\n",
      "12    12   8932\n",
      "13    13   9161\n",
      "14    14   9448\n",
      "15    15   9820\n",
      "16    16   9531\n",
      "17    17   8702\n",
      "18    18   6630\n",
      "19    19   5280\n",
      "20    20   4187\n",
      "21    21   3525\n",
      "22    22   3349\n",
      "23    23   2855\n"
     ]
    }
   ],
   "source": [
    "# Now let's summarize hours\n",
    "rides_by_hour1 = rides_by_hour1.groupby('hour', as_index=False).agg({\"Rides\": \"sum\"})\n",
    "print(rides_by_hour1)\n",
    "\n",
    "rides_by_hour2 = rides_by_hour2.groupby('hour', as_index=False).agg({\"Rides\": \"sum\"})\n",
    "print(rides_by_hour2)"
   ]
  },
  {
   "cell_type": "code",
   "execution_count": 132,
   "metadata": {},
   "outputs": [
    {
     "data": {
      "image/png": "[encoded data removed]",
      "text/plain": [
       "<Figure size 720x720 with 1 Axes>"
      ]
     },
     "metadata": {
      "needs_background": "light"
     },
     "output_type": "display_data"
    }
   ],
   "source": [
    "# Now let's create a a barplot for the first dataset\n",
    "fig = plt.figure()\n",
    "ax = fig.add_axes([0,0,1,1])\n",
    "ax.bar(rides_by_hour1.hour, rides_by_hour1.Rides)\n",
    "plt.xticks(rides_by_hour1.hour)\n",
    "# plt.title('Chicago taxi rides by hour (December 2019 - March 2020)')\n",
    "plt.show()"
   ]
  },
  {
   "cell_type": "code",
   "execution_count": 133,
   "metadata": {},
   "outputs": [
    {
     "data": {
      "image/png": "[encoded data removed]",
      "text/plain": [
       "<Figure size 720x720 with 1 Axes>"
      ]
     },
     "metadata": {
      "needs_background": "light"
     },
     "output_type": "display_data"
    }
   ],
   "source": [
    "# Now let's create a a barplot for the second dataset\n",
    "fig = plt.figure()\n",
    "ax = fig.add_axes([0,0,1,1])\n",
    "ax.bar(rides_by_hour2.hour, rides_by_hour2.Rides)\n",
    "plt.xticks(rides_by_hour2.hour)\n",
    "# plt.title('Chicago taxi rides by hour (April 2020 - June 2020)')\n",
    "plt.show()"
   ]
  },
  {
   "cell_type": "code",
   "execution_count": null,
   "metadata": {},
   "outputs": [],
   "source": [
    "# As we can see, the patterns changed too, during COVID-19 the distribution of rides by hour became more condensed. "
   ]
  },
  {
   "cell_type": "markdown",
   "metadata": {},
   "source": [
    "### 3. Exploring changes in taxi payments and payment behavior"
   ]
  },
  {
   "cell_type": "code",
   "execution_count": 98,
   "metadata": {},
   "outputs": [
    {
     "name": "stdout",
     "output_type": "stream",
     "text": [
      "                                             Taxi ID Trip Start Timestamp  \\\n",
      "0  bbf91e67201de7487dbeb23021a9a741e36d8d65175def...  2019-12-01 00:15:00   \n",
      "1  b83ba3da1a4bc2a686d885ec2f802c3f256c518d93816c...  2019-12-01 00:15:00   \n",
      "2  53c01ec83313fee495650d2294b7c88ade2f3d82f3acd0...  2019-12-01 00:15:00   \n",
      "3  ef5e9c8f0da412a5961a77ad3da965c641e08eb1ddd19f...  2019-12-01 00:15:00   \n",
      "4  71cf25528ebc98e11ac91a5d359776a91874e7f6047cb8...  2019-12-01 00:15:00   \n",
      "\n",
      "   Trip End Timestamp  Trip Seconds  Trip Miles  Pickup Census Tract  \\\n",
      "0 2019-12-01 00:30:00         600.0         0.1         1.703184e+10   \n",
      "1 2019-12-01 00:15:00         180.0         0.0                  NaN   \n",
      "2 2019-12-01 00:30:00         380.0         1.2                  NaN   \n",
      "3 2019-12-01 00:30:00         780.0         2.0         1.703184e+10   \n",
      "4 2019-12-01 00:30:00         720.0         3.1         1.703128e+10   \n",
      "\n",
      "   Dropoff Census Tract  Pickup Community Area  Dropoff Community Area   Fare  \\\n",
      "0          1.703108e+10                   32.0                     8.0   8.75   \n",
      "1                   NaN                    7.0                     6.0   5.00   \n",
      "2                   NaN                   14.0                    16.0   6.25   \n",
      "3          1.703108e+10                   32.0                     8.0   9.25   \n",
      "4          1.703107e+10                   28.0                     7.0  11.50   \n",
      "\n",
      "   ...  Pickup Centroid Latitude  Pickup Centroid Longitude  \\\n",
      "0  ...                    41.881                 -87.632746   \n",
      "1  ...                   41.9227                 -87.649489   \n",
      "2  ...                   41.9681                 -87.721559   \n",
      "3  ...                    41.881                 -87.632746   \n",
      "4  ...                   41.8793                 -87.642649   \n",
      "\n",
      "               Pickup Centroid Location  Dropoff Centroid Latitude  \\\n",
      "0  POINT (-87.6327464887 41.8809944707)                  41.899156   \n",
      "1  POINT (-87.6494887289 41.9226862843)                  41.944227   \n",
      "2      POINT (-87.7215590627 41.968069)                  41.953582   \n",
      "3  POINT (-87.6327464887 41.8809944707)                  41.899156   \n",
      "4   POINT (-87.642648998 41.8792550844)                  41.922083   \n",
      "\n",
      "  Dropoff Centroid Longitude            Dropoff Centroid  Location Start Date  \\\n",
      "0                 -87.626211  POINT (-87.6262105324 41.8991556134) 2019-12-01   \n",
      "1                 -87.655998  POINT (-87.6559981815 41.9442266014) 2019-12-01   \n",
      "2                 -87.723452  POINT (-87.7234523905 41.9535821253) 2019-12-01   \n",
      "3                 -87.626211  POINT (-87.6262105324 41.8991556134) 2019-12-01   \n",
      "4                 -87.634156   POINT (-87.6341560931 41.922082541) 2019-12-01   \n",
      "\n",
      "   Start Time   End Date  End Time  \n",
      "0    00:15:00 2019-12-01  00:30:00  \n",
      "1    00:15:00 2019-12-01  00:15:00  \n",
      "2    00:15:00 2019-12-01  00:30:00  \n",
      "3    00:15:00 2019-12-01  00:30:00  \n",
      "4    00:15:00 2019-12-01  00:30:00  \n",
      "\n",
      "[5 rows x 26 columns]\n"
     ]
    }
   ],
   "source": [
    "# Now lets explore how the payment trends changed for taxi drivers due to COVID-19\n",
    "print(taxi_2020.head())"
   ]
  },
  {
   "cell_type": "code",
   "execution_count": 100,
   "metadata": {},
   "outputs": [
    {
     "name": "stdout",
     "output_type": "stream",
     "text": [
      "  Start Date   Fare\n",
      "0 2019-12-01   8.75\n",
      "1 2019-12-01   5.00\n",
      "2 2019-12-01   6.25\n",
      "3 2019-12-01   9.25\n",
      "4 2019-12-01  11.50\n"
     ]
    }
   ],
   "source": [
    "# Select the necessary columns\n",
    "fares = taxi_2020[['Start Date','Fare']]\n",
    "print(fares.head())"
   ]
  },
  {
   "cell_type": "code",
   "execution_count": 102,
   "metadata": {},
   "outputs": [
    {
     "name": "stdout",
     "output_type": "stream",
     "text": [
      "        Start_date   Fare\n",
      "0       2019-12-01   8.75\n",
      "1       2019-12-01   5.00\n",
      "2       2019-12-01   6.25\n",
      "3       2019-12-01   9.25\n",
      "4       2019-12-01  11.50\n",
      "...            ...    ...\n",
      "4137289 2020-06-01  35.00\n",
      "4137290 2020-06-01   3.25\n",
      "4137291 2020-06-01   6.50\n",
      "4137292 2020-06-01   9.25\n",
      "4137293 2020-06-01   4.50\n",
      "\n",
      "[4137294 rows x 2 columns]\n"
     ]
    }
   ],
   "source": [
    "# Rename start date column\n",
    "fares = fares.rename(columns = {'Start Date': \"Start_date\"})\n",
    "print(fares)"
   ]
  },
  {
   "cell_type": "code",
   "execution_count": 112,
   "metadata": {},
   "outputs": [
    {
     "name": "stdout",
     "output_type": "stream",
     "text": [
      "    Start_date  Fare\n",
      "0   2019-12-01  21.7\n",
      "1   2019-12-02  15.2\n",
      "2   2019-12-03  14.6\n",
      "3   2019-12-04  16.0\n",
      "4   2019-12-05  16.5\n",
      "..         ...   ...\n",
      "179 2020-05-28  15.3\n",
      "180 2020-05-29  16.2\n",
      "181 2020-05-30  18.3\n",
      "182 2020-05-31  20.0\n",
      "183 2020-06-01  13.9\n",
      "\n",
      "[184 rows x 2 columns]\n"
     ]
    }
   ],
   "source": [
    "# Calculate average check per a ride per day\n",
    "mean_fare_by_day = fares.groupby('Start_date', as_index=False).agg({\"Fare\": \"mean\"}).round(1)\n",
    "print(mean_fare_by_day)"
   ]
  },
  {
   "cell_type": "code",
   "execution_count": 135,
   "metadata": {},
   "outputs": [
    {
     "data": {
      "image/png": "[encoded data removed]",
      "text/plain": [
       "<Figure size 720x720 with 1 Axes>"
      ]
     },
     "metadata": {
      "needs_background": "light"
     },
     "output_type": "display_data"
    }
   ],
   "source": [
    "# Plot mean fare by day\n",
    "plt.rcParams['figure.figsize'] = (10,10)\n",
    "plt.plot(mean_fare_by_day.Start_date, mean_fare_by_day.Fare)\n",
    "plt.ylabel('Dollars')\n",
    "# plt.title('The fare remains more or less the same ($16), but in April it fluctuated much less')\n",
    "plt.show()"
   ]
  },
  {
   "cell_type": "code",
   "execution_count": 115,
   "metadata": {},
   "outputs": [
    {
     "name": "stdout",
     "output_type": "stream",
     "text": [
      "    Start_date       Fare\n",
      "0   2019-12-01   730009.9\n",
      "1   2019-12-02   804205.0\n",
      "2   2019-12-03   830246.8\n",
      "3   2019-12-04   927646.7\n",
      "4   2019-12-05  1028231.8\n",
      "..         ...        ...\n",
      "179 2020-05-28    41502.2\n",
      "180 2020-05-29    46201.5\n",
      "181 2020-05-30    43902.8\n",
      "182 2020-05-31    48646.9\n",
      "183 2020-06-01      138.8\n",
      "\n",
      "[184 rows x 2 columns]\n"
     ]
    }
   ],
   "source": [
    "# What was the cululative revenue of fares per day?\n",
    "sum_fare_by_day = fares.groupby('Start_date', as_index=False).agg({\"Fare\": \"sum\"}).round(1)\n",
    "print(sum_fare_by_day)"
   ]
  },
  {
   "cell_type": "code",
   "execution_count": 131,
   "metadata": {},
   "outputs": [
    {
     "data": {
      "image/png": "[encoded data removed]",
      "text/plain": [
       "<Figure size 720x720 with 1 Axes>"
      ]
     },
     "metadata": {
      "needs_background": "light"
     },
     "output_type": "display_data"
    }
   ],
   "source": [
    "# Plot cumusum fare by day\n",
    "plt.rcParams['figure.figsize'] = (10,10)\n",
    "plt.plot(sum_fare_by_day.Start_date, sum_fare_by_day.Fare)\n",
    "# plt.title('The total daily revelue of Chicago drivers dropped due to COVID-19 \\n about 15 times - from 800000 USD to 45000 USD per day')\n",
    "plt.show()"
   ]
  },
  {
   "cell_type": "code",
   "execution_count": null,
   "metadata": {},
   "outputs": [],
   "source": [
    "# Now let's consider the payments by type\n",
    "fares = taxi_2020[['Start Date','Fare', '']]\n",
    "print(fares.head())"
   ]
  },
  {
   "cell_type": "code",
   "execution_count": null,
   "metadata": {},
   "outputs": [],
   "source": []
  },
  {
   "cell_type": "code",
   "execution_count": null,
   "metadata": {},
   "outputs": [],
   "source": []
  },
  {
   "cell_type": "code",
   "execution_count": null,
   "metadata": {},
   "outputs": [],
   "source": [
    "# Plot fares by day\n",
    "plt.rcParams['figure.figsize'] = (10,10)\n",
    "plt.plot(taxi_2020_by_day.Start_date, taxi_2020_by_day.Count)\n",
    "plt.title('The taxi traffic in Chicago drop significantly in the end of March 2020 due to COVID-19')\n",
    "plt.show()"
   ]
  },
  {
   "cell_type": "markdown",
   "metadata": {},
   "source": [
    "### 3. Time Series Analysis"
   ]
  },
  {
   "cell_type": "code",
   "execution_count": 75,
   "metadata": {},
   "outputs": [
    {
     "name": "stdout",
     "output_type": "stream",
     "text": [
      "   Start_date  Count\n",
      "0  2019-12-01  33571\n",
      "1  2019-12-02  52913\n",
      "2  2019-12-03  56998\n",
      "3  2019-12-04  58126\n",
      "4  2019-12-05  62134\n"
     ]
    }
   ],
   "source": [
    "# Let's use the same data use used to see the drop of traffic\n",
    "print(taxi_2020_by_day.head())"
   ]
  },
  {
   "cell_type": "code",
   "execution_count": 78,
   "metadata": {},
   "outputs": [
    {
     "data": {
      "text/plain": [
       "Start_date    object\n",
       "Count          int64\n",
       "dtype: object"
      ]
     },
     "execution_count": 78,
     "metadata": {},
     "output_type": "execute_result"
    }
   ],
   "source": [
    "# Check the type of columns\n",
    "taxi_2020_by_day.dtypes"
   ]
  },
  {
   "cell_type": "code",
   "execution_count": 79,
   "metadata": {},
   "outputs": [
    {
     "name": "stdout",
     "output_type": "stream",
     "text": [
      "368\n"
     ]
    }
   ],
   "source": [
    "# Print size\n",
    "print(taxi_2020_by_day.size)"
   ]
  },
  {
   "cell_type": "code",
   "execution_count": 80,
   "metadata": {},
   "outputs": [
    {
     "name": "stdout",
     "output_type": "stream",
     "text": [
      "              Count\n",
      "count    184.000000\n",
      "mean   22484.673913\n",
      "std    19593.800836\n",
      "min       10.000000\n",
      "25%     2362.000000\n",
      "50%    21637.500000\n",
      "75%    41370.250000\n",
      "max    62134.000000\n"
     ]
    }
   ],
   "source": [
    "# Descriptive statistics\n",
    "print(taxi_2020_by_day.describe())"
   ]
  },
  {
   "cell_type": "code",
   "execution_count": 93,
   "metadata": {},
   "outputs": [
    {
     "name": "stdout",
     "output_type": "stream",
     "text": [
      "         t    t+1\n",
      "0      NaN  33571\n",
      "1  33571.0  52913\n",
      "2  52913.0  56998\n",
      "3  56998.0  58126\n",
      "4  58126.0  62134\n"
     ]
    }
   ],
   "source": [
    "# Create a lagged feature\n",
    "data = taxi_2020_by_day['Count']\n",
    "ts_data = DataFrame(data.values)\n",
    "# print(temps)\n",
    "dataframe = concat([ts_data.shift(1), ts_data], axis=1)\n",
    "# print(dataframe)\n",
    "dataframe.columns = ['t', 't+1']\n",
    "print(dataframe.head(5))"
   ]
  },
  {
   "cell_type": "code",
   "execution_count": 94,
   "metadata": {},
   "outputs": [
    {
     "name": "stdout",
     "output_type": "stream",
     "text": [
      "       t-2      t-1        t    t+1\n",
      "0      NaN      NaN      NaN  33571\n",
      "1      NaN      NaN  33571.0  52913\n",
      "2      NaN  33571.0  52913.0  56998\n",
      "3  33571.0  52913.0  56998.0  58126\n",
      "4  52913.0  56998.0  58126.0  62134\n"
     ]
    }
   ],
   "source": [
    "# Create lag features with 3 values\n",
    "ts_data = DataFrame(data.values)\n",
    "dataframe = concat([ts_data.shift(3), ts_data.shift(2), ts_data.shift(1), ts_data], axis = 1)\n",
    "dataframe.columns = ['t-2', 't-1', 't', 't+1']\n",
    "print(dataframe.head(5))"
   ]
  },
  {
   "cell_type": "code",
   "execution_count": 95,
   "metadata": {},
   "outputs": [
    {
     "name": "stdout",
     "output_type": "stream",
     "text": [
      "   mean(t-1,t)    t+1\n",
      "0          NaN  33571\n",
      "1          NaN  52913\n",
      "2      43242.0  56998\n",
      "3      54955.5  58126\n",
      "4      57562.0  62134\n"
     ]
    }
   ],
   "source": [
    "# Create a rolling mean\n",
    "ts_data = DataFrame(data.values)\n",
    "shifted = ts_data.shift(1)\n",
    "window = shifted.rolling(window=2)\n",
    "means = window.mean()\n",
    "dataframe = concat([means, ts_data], axis=1)\n",
    "dataframe.columns = ['mean(t-1,t)', 't+1']\n",
    "print(dataframe.head(5))"
   ]
  },
  {
   "cell_type": "code",
   "execution_count": 97,
   "metadata": {},
   "outputs": [
    {
     "data": {
      "image/png": "[encoded data removed]",
      "text/plain": [
       "<Figure size 432x288 with 1 Axes>"
      ]
     },
     "metadata": {
      "needs_background": "light"
     },
     "output_type": "display_data"
    }
   ],
   "source": [
    "# Visualize\n",
    "ts_data = DataFrame(data.values)\n",
    "ts_data.plot(style='k.') # You can remove k. and receive a standard plot\n",
    "plt.show()"
   ]
  },
  {
   "cell_type": "code",
   "execution_count": null,
   "metadata": {},
   "outputs": [],
   "source": []
  },
  {
   "cell_type": "code",
   "execution_count": null,
   "metadata": {},
   "outputs": [],
   "source": []
  },
  {
   "cell_type": "code",
   "execution_count": null,
   "metadata": {},
   "outputs": [],
   "source": []
  },
  {
   "cell_type": "code",
   "execution_count": null,
   "metadata": {},
   "outputs": [],
   "source": []
  },
  {
   "cell_type": "markdown",
   "metadata": {},
   "source": [
    "**Additional research information:**\n",
    "\n",
    "1. How much does a Taxi Driver make in Chicago, IL? The average Taxi Driver salary in Chicago, IL is 38,001 USD as of May 28, 2020, but the range typically falls between 31,564 USD and 46,379 USD. \n",
    "\n",
    "2. Chicago, Illinois - 6,650 taxi certificates (medallions)\n",
    "\n"
   ]
  },
  {
   "cell_type": "code",
   "execution_count": null,
   "metadata": {},
   "outputs": [],
   "source": []
  },
  {
   "cell_type": "code",
   "execution_count": null,
   "metadata": {},
   "outputs": [],
   "source": []
  }
 ],
 "metadata": {
  "kernelspec": {
   "display_name": "Python 3",
   "language": "python",
   "name": "python3"
  },
  "language_info": {
   "codemirror_mode": {
    "name": "ipython",
    "version": 3
   },
   "file_extension": ".py",
   "mimetype": "text/x-python",
   "name": "python",
   "nbconvert_exporter": "python",
   "pygments_lexer": "ipython3",
   "version": "3.7.4"
  }
 },
 "nbformat": 4,
 "nbformat_minor": 2
}
