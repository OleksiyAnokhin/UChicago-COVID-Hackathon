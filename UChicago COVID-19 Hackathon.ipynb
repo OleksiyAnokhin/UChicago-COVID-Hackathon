{
 "cells": [
  {
   "cell_type": "markdown",
   "metadata": {},
   "source": [
    "### Oleksiy Anokhin (June 15, 2020)\n",
    "\n",
    "**Workbook for UChicago COVID-19 Hackathon:**\n",
    "https://voices.uchicago.edu/mscahackathon/\n",
    "\n",
    "**GitHub Repository:**\n",
    "https://github.com/OleksiyAnokhin/UChicago-COVID-Hackathon"
   ]
  },
  {
   "cell_type": "code",
   "execution_count": 74,
   "metadata": {},
   "outputs": [],
   "source": [
    "# Install libraries\n",
    "import numpy as np\n",
    "import pandas as pd\n",
    "import matplotlib.pyplot as plt"
   ]
  },
  {
   "cell_type": "code",
   "execution_count": 3,
   "metadata": {},
   "outputs": [
    {
     "name": "stdout",
     "output_type": "stream",
     "text": [
      "C:/Users/wb516241/OneDrive - WBG/Oleksiy Anokhin/R_Projects/UChicago-COVID-Hackathon/Taxi_Trips_Dec2019-Present.csv\n"
     ]
    }
   ],
   "source": [
    "# Read dataset for December 2019 - June 2020\n",
    "path = 'C:/Users/wb516241/OneDrive - WBG/Oleksiy Anokhin/R_Projects/UChicago-COVID-Hackathon/Taxi_Trips_Dec2019-Present.csv'\n",
    "print(path)"
   ]
  },
  {
   "cell_type": "code",
   "execution_count": 30,
   "metadata": {},
   "outputs": [
    {
     "data": {
      "text/html": [
       "<div>\n",
       "<style scoped>\n",
       "    .dataframe tbody tr th:only-of-type {\n",
       "        vertical-align: middle;\n",
       "    }\n",
       "\n",
       "    .dataframe tbody tr th {\n",
       "        vertical-align: top;\n",
       "    }\n",
       "\n",
       "    .dataframe thead th {\n",
       "        text-align: right;\n",
       "    }\n",
       "</style>\n",
       "<table border=\"1\" class=\"dataframe\">\n",
       "  <thead>\n",
       "    <tr style=\"text-align: right;\">\n",
       "      <th></th>\n",
       "      <th>Trip ID</th>\n",
       "      <th>Taxi ID</th>\n",
       "      <th>Trip Start Timestamp</th>\n",
       "      <th>Trip End Timestamp</th>\n",
       "      <th>Trip Seconds</th>\n",
       "      <th>Trip Miles</th>\n",
       "      <th>Pickup Census Tract</th>\n",
       "      <th>Dropoff Census Tract</th>\n",
       "      <th>Pickup Community Area</th>\n",
       "      <th>Dropoff Community Area</th>\n",
       "      <th>...</th>\n",
       "      <th>Extras</th>\n",
       "      <th>Trip Total</th>\n",
       "      <th>Payment Type</th>\n",
       "      <th>Company</th>\n",
       "      <th>Pickup Centroid Latitude</th>\n",
       "      <th>Pickup Centroid Longitude</th>\n",
       "      <th>Pickup Centroid Location</th>\n",
       "      <th>Dropoff Centroid Latitude</th>\n",
       "      <th>Dropoff Centroid Longitude</th>\n",
       "      <th>Dropoff Centroid  Location</th>\n",
       "    </tr>\n",
       "  </thead>\n",
       "  <tbody>\n",
       "    <tr>\n",
       "      <td>0</td>\n",
       "      <td>e4c06ccfb0d1de5db8675fb3a2779b209760d6ac</td>\n",
       "      <td>bbf91e67201de7487dbeb23021a9a741e36d8d65175def...</td>\n",
       "      <td>12/01/2019 12:15:00 AM</td>\n",
       "      <td>12/01/2019 12:30:00 AM</td>\n",
       "      <td>600.0</td>\n",
       "      <td>0.1</td>\n",
       "      <td>1.703184e+10</td>\n",
       "      <td>1.703108e+10</td>\n",
       "      <td>32.0</td>\n",
       "      <td>8.0</td>\n",
       "      <td>...</td>\n",
       "      <td>0.0</td>\n",
       "      <td>10.50</td>\n",
       "      <td>Credit Card</td>\n",
       "      <td>Taxi Affiliation Services</td>\n",
       "      <td>41.881</td>\n",
       "      <td>-87.632746</td>\n",
       "      <td>POINT (-87.6327464887 41.8809944707)</td>\n",
       "      <td>41.899156</td>\n",
       "      <td>-87.626211</td>\n",
       "      <td>POINT (-87.6262105324 41.8991556134)</td>\n",
       "    </tr>\n",
       "    <tr>\n",
       "      <td>1</td>\n",
       "      <td>e1de111c0c25003054c31e0e49e9f64cc00a8683</td>\n",
       "      <td>b83ba3da1a4bc2a686d885ec2f802c3f256c518d93816c...</td>\n",
       "      <td>12/01/2019 12:15:00 AM</td>\n",
       "      <td>12/01/2019 12:15:00 AM</td>\n",
       "      <td>180.0</td>\n",
       "      <td>0.0</td>\n",
       "      <td>NaN</td>\n",
       "      <td>NaN</td>\n",
       "      <td>7.0</td>\n",
       "      <td>6.0</td>\n",
       "      <td>...</td>\n",
       "      <td>0.0</td>\n",
       "      <td>7.00</td>\n",
       "      <td>Credit Card</td>\n",
       "      <td>Taxi Affiliation Services</td>\n",
       "      <td>41.9227</td>\n",
       "      <td>-87.649489</td>\n",
       "      <td>POINT (-87.6494887289 41.9226862843)</td>\n",
       "      <td>41.944227</td>\n",
       "      <td>-87.655998</td>\n",
       "      <td>POINT (-87.6559981815 41.9442266014)</td>\n",
       "    </tr>\n",
       "    <tr>\n",
       "      <td>2</td>\n",
       "      <td>e0ed81be1b41bda25285afeeb76d4e4fb4be30fc</td>\n",
       "      <td>53c01ec83313fee495650d2294b7c88ade2f3d82f3acd0...</td>\n",
       "      <td>12/01/2019 12:15:00 AM</td>\n",
       "      <td>12/01/2019 12:30:00 AM</td>\n",
       "      <td>380.0</td>\n",
       "      <td>1.2</td>\n",
       "      <td>NaN</td>\n",
       "      <td>NaN</td>\n",
       "      <td>14.0</td>\n",
       "      <td>16.0</td>\n",
       "      <td>...</td>\n",
       "      <td>1.0</td>\n",
       "      <td>7.25</td>\n",
       "      <td>Cash</td>\n",
       "      <td>Flash Cab</td>\n",
       "      <td>41.9681</td>\n",
       "      <td>-87.721559</td>\n",
       "      <td>POINT (-87.7215590627 41.968069)</td>\n",
       "      <td>41.953582</td>\n",
       "      <td>-87.723452</td>\n",
       "      <td>POINT (-87.7234523905 41.9535821253)</td>\n",
       "    </tr>\n",
       "    <tr>\n",
       "      <td>3</td>\n",
       "      <td>e077d949ef075542a5168b48f9d09bd9320fd2d6</td>\n",
       "      <td>ef5e9c8f0da412a5961a77ad3da965c641e08eb1ddd19f...</td>\n",
       "      <td>12/01/2019 12:15:00 AM</td>\n",
       "      <td>12/01/2019 12:30:00 AM</td>\n",
       "      <td>780.0</td>\n",
       "      <td>2.0</td>\n",
       "      <td>1.703184e+10</td>\n",
       "      <td>1.703108e+10</td>\n",
       "      <td>32.0</td>\n",
       "      <td>8.0</td>\n",
       "      <td>...</td>\n",
       "      <td>2.0</td>\n",
       "      <td>13.60</td>\n",
       "      <td>Credit Card</td>\n",
       "      <td>Taxi Affiliation Services</td>\n",
       "      <td>41.881</td>\n",
       "      <td>-87.632746</td>\n",
       "      <td>POINT (-87.6327464887 41.8809944707)</td>\n",
       "      <td>41.899156</td>\n",
       "      <td>-87.626211</td>\n",
       "      <td>POINT (-87.6262105324 41.8991556134)</td>\n",
       "    </tr>\n",
       "    <tr>\n",
       "      <td>4</td>\n",
       "      <td>dfeeafe19f4fe8d71f5eadb6919b0f2fca99ee62</td>\n",
       "      <td>71cf25528ebc98e11ac91a5d359776a91874e7f6047cb8...</td>\n",
       "      <td>12/01/2019 12:15:00 AM</td>\n",
       "      <td>12/01/2019 12:30:00 AM</td>\n",
       "      <td>720.0</td>\n",
       "      <td>3.1</td>\n",
       "      <td>1.703128e+10</td>\n",
       "      <td>1.703107e+10</td>\n",
       "      <td>28.0</td>\n",
       "      <td>7.0</td>\n",
       "      <td>...</td>\n",
       "      <td>1.0</td>\n",
       "      <td>12.50</td>\n",
       "      <td>Cash</td>\n",
       "      <td>Taxi Affiliation Services</td>\n",
       "      <td>41.8793</td>\n",
       "      <td>-87.642649</td>\n",
       "      <td>POINT (-87.642648998 41.8792550844)</td>\n",
       "      <td>41.922083</td>\n",
       "      <td>-87.634156</td>\n",
       "      <td>POINT (-87.6341560931 41.922082541)</td>\n",
       "    </tr>\n",
       "  </tbody>\n",
       "</table>\n",
       "<p>5 rows × 23 columns</p>\n",
       "</div>"
      ],
      "text/plain": [
       "                                    Trip ID  \\\n",
       "0  e4c06ccfb0d1de5db8675fb3a2779b209760d6ac   \n",
       "1  e1de111c0c25003054c31e0e49e9f64cc00a8683   \n",
       "2  e0ed81be1b41bda25285afeeb76d4e4fb4be30fc   \n",
       "3  e077d949ef075542a5168b48f9d09bd9320fd2d6   \n",
       "4  dfeeafe19f4fe8d71f5eadb6919b0f2fca99ee62   \n",
       "\n",
       "                                             Taxi ID    Trip Start Timestamp  \\\n",
       "0  bbf91e67201de7487dbeb23021a9a741e36d8d65175def...  12/01/2019 12:15:00 AM   \n",
       "1  b83ba3da1a4bc2a686d885ec2f802c3f256c518d93816c...  12/01/2019 12:15:00 AM   \n",
       "2  53c01ec83313fee495650d2294b7c88ade2f3d82f3acd0...  12/01/2019 12:15:00 AM   \n",
       "3  ef5e9c8f0da412a5961a77ad3da965c641e08eb1ddd19f...  12/01/2019 12:15:00 AM   \n",
       "4  71cf25528ebc98e11ac91a5d359776a91874e7f6047cb8...  12/01/2019 12:15:00 AM   \n",
       "\n",
       "       Trip End Timestamp  Trip Seconds  Trip Miles  Pickup Census Tract  \\\n",
       "0  12/01/2019 12:30:00 AM         600.0         0.1         1.703184e+10   \n",
       "1  12/01/2019 12:15:00 AM         180.0         0.0                  NaN   \n",
       "2  12/01/2019 12:30:00 AM         380.0         1.2                  NaN   \n",
       "3  12/01/2019 12:30:00 AM         780.0         2.0         1.703184e+10   \n",
       "4  12/01/2019 12:30:00 AM         720.0         3.1         1.703128e+10   \n",
       "\n",
       "   Dropoff Census Tract  Pickup Community Area  Dropoff Community Area  ...  \\\n",
       "0          1.703108e+10                   32.0                     8.0  ...   \n",
       "1                   NaN                    7.0                     6.0  ...   \n",
       "2                   NaN                   14.0                    16.0  ...   \n",
       "3          1.703108e+10                   32.0                     8.0  ...   \n",
       "4          1.703107e+10                   28.0                     7.0  ...   \n",
       "\n",
       "   Extras  Trip Total  Payment Type                    Company  \\\n",
       "0     0.0       10.50   Credit Card  Taxi Affiliation Services   \n",
       "1     0.0        7.00   Credit Card  Taxi Affiliation Services   \n",
       "2     1.0        7.25          Cash                  Flash Cab   \n",
       "3     2.0       13.60   Credit Card  Taxi Affiliation Services   \n",
       "4     1.0       12.50          Cash  Taxi Affiliation Services   \n",
       "\n",
       "   Pickup Centroid Latitude Pickup Centroid Longitude  \\\n",
       "0                    41.881                -87.632746   \n",
       "1                   41.9227                -87.649489   \n",
       "2                   41.9681                -87.721559   \n",
       "3                    41.881                -87.632746   \n",
       "4                   41.8793                -87.642649   \n",
       "\n",
       "               Pickup Centroid Location Dropoff Centroid Latitude  \\\n",
       "0  POINT (-87.6327464887 41.8809944707)                 41.899156   \n",
       "1  POINT (-87.6494887289 41.9226862843)                 41.944227   \n",
       "2      POINT (-87.7215590627 41.968069)                 41.953582   \n",
       "3  POINT (-87.6327464887 41.8809944707)                 41.899156   \n",
       "4   POINT (-87.642648998 41.8792550844)                 41.922083   \n",
       "\n",
       "   Dropoff Centroid Longitude            Dropoff Centroid  Location  \n",
       "0                  -87.626211  POINT (-87.6262105324 41.8991556134)  \n",
       "1                  -87.655998  POINT (-87.6559981815 41.9442266014)  \n",
       "2                  -87.723452  POINT (-87.7234523905 41.9535821253)  \n",
       "3                  -87.626211  POINT (-87.6262105324 41.8991556134)  \n",
       "4                  -87.634156   POINT (-87.6341560931 41.922082541)  \n",
       "\n",
       "[5 rows x 23 columns]"
      ]
     },
     "execution_count": 30,
     "metadata": {},
     "output_type": "execute_result"
    }
   ],
   "source": [
    "# Read csv for December 2019 - June 2020\n",
    "taxi_2020 = pd.read_csv(path, encoding = 'ISO-8859-1')\n",
    "taxi_2020.head()"
   ]
  },
  {
   "cell_type": "code",
   "execution_count": 31,
   "metadata": {},
   "outputs": [
    {
     "name": "stdout",
     "output_type": "stream",
     "text": [
      "<class 'pandas.core.frame.DataFrame'>\n",
      "RangeIndex: 4137294 entries, 0 to 4137293\n",
      "Data columns (total 23 columns):\n",
      "Trip ID                       object\n",
      "Taxi ID                       object\n",
      "Trip Start Timestamp          object\n",
      "Trip End Timestamp            object\n",
      "Trip Seconds                  float64\n",
      "Trip Miles                    float64\n",
      "Pickup Census Tract           float64\n",
      "Dropoff Census Tract          float64\n",
      "Pickup Community Area         float64\n",
      "Dropoff Community Area        float64\n",
      "Fare                          float64\n",
      "Tips                          float64\n",
      "Tolls                         float64\n",
      "Extras                        float64\n",
      "Trip Total                    float64\n",
      "Payment Type                  object\n",
      "Company                       object\n",
      "Pickup Centroid Latitude      object\n",
      "Pickup Centroid Longitude     float64\n",
      "Pickup Centroid Location      object\n",
      "Dropoff Centroid Latitude     float64\n",
      "Dropoff Centroid Longitude    float64\n",
      "Dropoff Centroid  Location    object\n",
      "dtypes: float64(14), object(9)\n",
      "memory usage: 726.0+ MB\n"
     ]
    }
   ],
   "source": [
    "# Check the dataframe info\n",
    "taxi_2020.info()\n",
    "# In total we have 4137294 rows"
   ]
  },
  {
   "cell_type": "code",
   "execution_count": 32,
   "metadata": {},
   "outputs": [
    {
     "data": {
      "text/plain": [
       "True"
      ]
     },
     "execution_count": 32,
     "metadata": {},
     "output_type": "execute_result"
    }
   ],
   "source": [
    "# Check duplicates in column Taxi ID\n",
    "taxi_2020['Taxi ID'].duplicated().any()"
   ]
  },
  {
   "cell_type": "code",
   "execution_count": 33,
   "metadata": {},
   "outputs": [
    {
     "data": {
      "text/plain": [
       "4641"
      ]
     },
     "execution_count": 33,
     "metadata": {},
     "output_type": "execute_result"
    }
   ],
   "source": [
    "# Check unique values with nunique()\n",
    "taxi_2020['Taxi ID'].nunique()"
   ]
  },
  {
   "cell_type": "code",
   "execution_count": 34,
   "metadata": {},
   "outputs": [
    {
     "data": {
      "text/plain": [
       "4137026"
      ]
     },
     "execution_count": 34,
     "metadata": {},
     "output_type": "execute_result"
    }
   ],
   "source": [
    "# Check unique values with count()\n",
    "taxi_2020['Taxi ID'].count()"
   ]
  },
  {
   "cell_type": "code",
   "execution_count": 35,
   "metadata": {},
   "outputs": [],
   "source": [
    "# I will keep Taxi ID column, but will drop Ride ID column\n",
    "taxi_2020 = taxi_2020.drop('Trip ID', 1)"
   ]
  },
  {
   "cell_type": "code",
   "execution_count": 36,
   "metadata": {},
   "outputs": [
    {
     "data": {
      "text/html": [
       "<div>\n",
       "<style scoped>\n",
       "    .dataframe tbody tr th:only-of-type {\n",
       "        vertical-align: middle;\n",
       "    }\n",
       "\n",
       "    .dataframe tbody tr th {\n",
       "        vertical-align: top;\n",
       "    }\n",
       "\n",
       "    .dataframe thead th {\n",
       "        text-align: right;\n",
       "    }\n",
       "</style>\n",
       "<table border=\"1\" class=\"dataframe\">\n",
       "  <thead>\n",
       "    <tr style=\"text-align: right;\">\n",
       "      <th></th>\n",
       "      <th>Taxi ID</th>\n",
       "      <th>Trip Start Timestamp</th>\n",
       "      <th>Trip End Timestamp</th>\n",
       "      <th>Trip Seconds</th>\n",
       "      <th>Trip Miles</th>\n",
       "      <th>Pickup Census Tract</th>\n",
       "      <th>Dropoff Census Tract</th>\n",
       "      <th>Pickup Community Area</th>\n",
       "      <th>Dropoff Community Area</th>\n",
       "      <th>Fare</th>\n",
       "      <th>...</th>\n",
       "      <th>Extras</th>\n",
       "      <th>Trip Total</th>\n",
       "      <th>Payment Type</th>\n",
       "      <th>Company</th>\n",
       "      <th>Pickup Centroid Latitude</th>\n",
       "      <th>Pickup Centroid Longitude</th>\n",
       "      <th>Pickup Centroid Location</th>\n",
       "      <th>Dropoff Centroid Latitude</th>\n",
       "      <th>Dropoff Centroid Longitude</th>\n",
       "      <th>Dropoff Centroid  Location</th>\n",
       "    </tr>\n",
       "  </thead>\n",
       "  <tbody>\n",
       "    <tr>\n",
       "      <td>0</td>\n",
       "      <td>bbf91e67201de7487dbeb23021a9a741e36d8d65175def...</td>\n",
       "      <td>12/01/2019 12:15:00 AM</td>\n",
       "      <td>12/01/2019 12:30:00 AM</td>\n",
       "      <td>600.0</td>\n",
       "      <td>0.1</td>\n",
       "      <td>1.703184e+10</td>\n",
       "      <td>1.703108e+10</td>\n",
       "      <td>32.0</td>\n",
       "      <td>8.0</td>\n",
       "      <td>8.75</td>\n",
       "      <td>...</td>\n",
       "      <td>0.0</td>\n",
       "      <td>10.50</td>\n",
       "      <td>Credit Card</td>\n",
       "      <td>Taxi Affiliation Services</td>\n",
       "      <td>41.881</td>\n",
       "      <td>-87.632746</td>\n",
       "      <td>POINT (-87.6327464887 41.8809944707)</td>\n",
       "      <td>41.899156</td>\n",
       "      <td>-87.626211</td>\n",
       "      <td>POINT (-87.6262105324 41.8991556134)</td>\n",
       "    </tr>\n",
       "    <tr>\n",
       "      <td>1</td>\n",
       "      <td>b83ba3da1a4bc2a686d885ec2f802c3f256c518d93816c...</td>\n",
       "      <td>12/01/2019 12:15:00 AM</td>\n",
       "      <td>12/01/2019 12:15:00 AM</td>\n",
       "      <td>180.0</td>\n",
       "      <td>0.0</td>\n",
       "      <td>NaN</td>\n",
       "      <td>NaN</td>\n",
       "      <td>7.0</td>\n",
       "      <td>6.0</td>\n",
       "      <td>5.00</td>\n",
       "      <td>...</td>\n",
       "      <td>0.0</td>\n",
       "      <td>7.00</td>\n",
       "      <td>Credit Card</td>\n",
       "      <td>Taxi Affiliation Services</td>\n",
       "      <td>41.9227</td>\n",
       "      <td>-87.649489</td>\n",
       "      <td>POINT (-87.6494887289 41.9226862843)</td>\n",
       "      <td>41.944227</td>\n",
       "      <td>-87.655998</td>\n",
       "      <td>POINT (-87.6559981815 41.9442266014)</td>\n",
       "    </tr>\n",
       "    <tr>\n",
       "      <td>2</td>\n",
       "      <td>53c01ec83313fee495650d2294b7c88ade2f3d82f3acd0...</td>\n",
       "      <td>12/01/2019 12:15:00 AM</td>\n",
       "      <td>12/01/2019 12:30:00 AM</td>\n",
       "      <td>380.0</td>\n",
       "      <td>1.2</td>\n",
       "      <td>NaN</td>\n",
       "      <td>NaN</td>\n",
       "      <td>14.0</td>\n",
       "      <td>16.0</td>\n",
       "      <td>6.25</td>\n",
       "      <td>...</td>\n",
       "      <td>1.0</td>\n",
       "      <td>7.25</td>\n",
       "      <td>Cash</td>\n",
       "      <td>Flash Cab</td>\n",
       "      <td>41.9681</td>\n",
       "      <td>-87.721559</td>\n",
       "      <td>POINT (-87.7215590627 41.968069)</td>\n",
       "      <td>41.953582</td>\n",
       "      <td>-87.723452</td>\n",
       "      <td>POINT (-87.7234523905 41.9535821253)</td>\n",
       "    </tr>\n",
       "    <tr>\n",
       "      <td>3</td>\n",
       "      <td>ef5e9c8f0da412a5961a77ad3da965c641e08eb1ddd19f...</td>\n",
       "      <td>12/01/2019 12:15:00 AM</td>\n",
       "      <td>12/01/2019 12:30:00 AM</td>\n",
       "      <td>780.0</td>\n",
       "      <td>2.0</td>\n",
       "      <td>1.703184e+10</td>\n",
       "      <td>1.703108e+10</td>\n",
       "      <td>32.0</td>\n",
       "      <td>8.0</td>\n",
       "      <td>9.25</td>\n",
       "      <td>...</td>\n",
       "      <td>2.0</td>\n",
       "      <td>13.60</td>\n",
       "      <td>Credit Card</td>\n",
       "      <td>Taxi Affiliation Services</td>\n",
       "      <td>41.881</td>\n",
       "      <td>-87.632746</td>\n",
       "      <td>POINT (-87.6327464887 41.8809944707)</td>\n",
       "      <td>41.899156</td>\n",
       "      <td>-87.626211</td>\n",
       "      <td>POINT (-87.6262105324 41.8991556134)</td>\n",
       "    </tr>\n",
       "    <tr>\n",
       "      <td>4</td>\n",
       "      <td>71cf25528ebc98e11ac91a5d359776a91874e7f6047cb8...</td>\n",
       "      <td>12/01/2019 12:15:00 AM</td>\n",
       "      <td>12/01/2019 12:30:00 AM</td>\n",
       "      <td>720.0</td>\n",
       "      <td>3.1</td>\n",
       "      <td>1.703128e+10</td>\n",
       "      <td>1.703107e+10</td>\n",
       "      <td>28.0</td>\n",
       "      <td>7.0</td>\n",
       "      <td>11.50</td>\n",
       "      <td>...</td>\n",
       "      <td>1.0</td>\n",
       "      <td>12.50</td>\n",
       "      <td>Cash</td>\n",
       "      <td>Taxi Affiliation Services</td>\n",
       "      <td>41.8793</td>\n",
       "      <td>-87.642649</td>\n",
       "      <td>POINT (-87.642648998 41.8792550844)</td>\n",
       "      <td>41.922083</td>\n",
       "      <td>-87.634156</td>\n",
       "      <td>POINT (-87.6341560931 41.922082541)</td>\n",
       "    </tr>\n",
       "  </tbody>\n",
       "</table>\n",
       "<p>5 rows × 22 columns</p>\n",
       "</div>"
      ],
      "text/plain": [
       "                                             Taxi ID    Trip Start Timestamp  \\\n",
       "0  bbf91e67201de7487dbeb23021a9a741e36d8d65175def...  12/01/2019 12:15:00 AM   \n",
       "1  b83ba3da1a4bc2a686d885ec2f802c3f256c518d93816c...  12/01/2019 12:15:00 AM   \n",
       "2  53c01ec83313fee495650d2294b7c88ade2f3d82f3acd0...  12/01/2019 12:15:00 AM   \n",
       "3  ef5e9c8f0da412a5961a77ad3da965c641e08eb1ddd19f...  12/01/2019 12:15:00 AM   \n",
       "4  71cf25528ebc98e11ac91a5d359776a91874e7f6047cb8...  12/01/2019 12:15:00 AM   \n",
       "\n",
       "       Trip End Timestamp  Trip Seconds  Trip Miles  Pickup Census Tract  \\\n",
       "0  12/01/2019 12:30:00 AM         600.0         0.1         1.703184e+10   \n",
       "1  12/01/2019 12:15:00 AM         180.0         0.0                  NaN   \n",
       "2  12/01/2019 12:30:00 AM         380.0         1.2                  NaN   \n",
       "3  12/01/2019 12:30:00 AM         780.0         2.0         1.703184e+10   \n",
       "4  12/01/2019 12:30:00 AM         720.0         3.1         1.703128e+10   \n",
       "\n",
       "   Dropoff Census Tract  Pickup Community Area  Dropoff Community Area   Fare  \\\n",
       "0          1.703108e+10                   32.0                     8.0   8.75   \n",
       "1                   NaN                    7.0                     6.0   5.00   \n",
       "2                   NaN                   14.0                    16.0   6.25   \n",
       "3          1.703108e+10                   32.0                     8.0   9.25   \n",
       "4          1.703107e+10                   28.0                     7.0  11.50   \n",
       "\n",
       "   ...  Extras  Trip Total  Payment Type                    Company  \\\n",
       "0  ...     0.0       10.50   Credit Card  Taxi Affiliation Services   \n",
       "1  ...     0.0        7.00   Credit Card  Taxi Affiliation Services   \n",
       "2  ...     1.0        7.25          Cash                  Flash Cab   \n",
       "3  ...     2.0       13.60   Credit Card  Taxi Affiliation Services   \n",
       "4  ...     1.0       12.50          Cash  Taxi Affiliation Services   \n",
       "\n",
       "  Pickup Centroid Latitude Pickup Centroid Longitude  \\\n",
       "0                   41.881                -87.632746   \n",
       "1                  41.9227                -87.649489   \n",
       "2                  41.9681                -87.721559   \n",
       "3                   41.881                -87.632746   \n",
       "4                  41.8793                -87.642649   \n",
       "\n",
       "               Pickup Centroid Location  Dropoff Centroid Latitude  \\\n",
       "0  POINT (-87.6327464887 41.8809944707)                  41.899156   \n",
       "1  POINT (-87.6494887289 41.9226862843)                  41.944227   \n",
       "2      POINT (-87.7215590627 41.968069)                  41.953582   \n",
       "3  POINT (-87.6327464887 41.8809944707)                  41.899156   \n",
       "4   POINT (-87.642648998 41.8792550844)                  41.922083   \n",
       "\n",
       "  Dropoff Centroid Longitude            Dropoff Centroid  Location  \n",
       "0                 -87.626211  POINT (-87.6262105324 41.8991556134)  \n",
       "1                 -87.655998  POINT (-87.6559981815 41.9442266014)  \n",
       "2                 -87.723452  POINT (-87.7234523905 41.9535821253)  \n",
       "3                 -87.626211  POINT (-87.6262105324 41.8991556134)  \n",
       "4                 -87.634156   POINT (-87.6341560931 41.922082541)  \n",
       "\n",
       "[5 rows x 22 columns]"
      ]
     },
     "execution_count": 36,
     "metadata": {},
     "output_type": "execute_result"
    }
   ],
   "source": [
    "# Check structure\n",
    "taxi_2020.head()\n",
    "# As you can see below, now we have only 22 columns"
   ]
  },
  {
   "cell_type": "code",
   "execution_count": 40,
   "metadata": {},
   "outputs": [
    {
     "data": {
      "text/plain": [
       "Taxi ID                        object\n",
       "Trip Start Timestamp           object\n",
       "Trip End Timestamp             object\n",
       "Trip Seconds                  float64\n",
       "Trip Miles                    float64\n",
       "Pickup Census Tract           float64\n",
       "Dropoff Census Tract          float64\n",
       "Pickup Community Area         float64\n",
       "Dropoff Community Area        float64\n",
       "Fare                          float64\n",
       "Tips                          float64\n",
       "Tolls                         float64\n",
       "Extras                        float64\n",
       "Trip Total                    float64\n",
       "Payment Type                   object\n",
       "Company                        object\n",
       "Pickup Centroid Latitude       object\n",
       "Pickup Centroid Longitude     float64\n",
       "Pickup Centroid Location       object\n",
       "Dropoff Centroid Latitude     float64\n",
       "Dropoff Centroid Longitude    float64\n",
       "Dropoff Centroid  Location     object\n",
       "dtype: object"
      ]
     },
     "execution_count": 40,
     "metadata": {},
     "output_type": "execute_result"
    }
   ],
   "source": [
    "# Check column types\n",
    "taxi_2020.dtypes"
   ]
  },
  {
   "cell_type": "code",
   "execution_count": 45,
   "metadata": {},
   "outputs": [],
   "source": [
    "# Convert format and coerce errors for now\n",
    "taxi_2020['Trip Start Timestamp'] = pd.to_datetime(taxi_2020['Trip Start Timestamp'], errors = 'coerce')\n",
    "taxi_2020['Trip End Timestamp'] = pd.to_datetime(taxi_2020['Trip End Timestamp'], errors = 'coerce')\n",
    "# This is a temporary solution and I think it can hurt in furure. Also, might be a good idea split data first"
   ]
  },
  {
   "cell_type": "code",
   "execution_count": 46,
   "metadata": {},
   "outputs": [
    {
     "data": {
      "text/plain": [
       "Taxi ID                               object\n",
       "Trip Start Timestamp          datetime64[ns]\n",
       "Trip End Timestamp            datetime64[ns]\n",
       "Trip Seconds                         float64\n",
       "Trip Miles                           float64\n",
       "Pickup Census Tract                  float64\n",
       "Dropoff Census Tract                 float64\n",
       "Pickup Community Area                float64\n",
       "Dropoff Community Area               float64\n",
       "Fare                                 float64\n",
       "Tips                                 float64\n",
       "Tolls                                float64\n",
       "Extras                               float64\n",
       "Trip Total                           float64\n",
       "Payment Type                          object\n",
       "Company                               object\n",
       "Pickup Centroid Latitude              object\n",
       "Pickup Centroid Longitude            float64\n",
       "Pickup Centroid Location              object\n",
       "Dropoff Centroid Latitude            float64\n",
       "Dropoff Centroid Longitude           float64\n",
       "Dropoff Centroid  Location            object\n",
       "dtype: object"
      ]
     },
     "execution_count": 46,
     "metadata": {},
     "output_type": "execute_result"
    }
   ],
   "source": [
    "# Check data types again\n",
    "taxi_2020.dtypes"
   ]
  },
  {
   "cell_type": "code",
   "execution_count": 49,
   "metadata": {},
   "outputs": [],
   "source": [
    "# Split trip start and trip end columns\n",
    "taxi_2020['Start Date'] = taxi_2020['Trip Start Timestamp'].dt.date\n",
    "taxi_2020['Start Time'] = taxi_2020['Trip Start Timestamp'].dt.time\n",
    "taxi_2020['End Date'] = taxi_2020['Trip End Timestamp'].dt.date\n",
    "taxi_2020['End Time'] = taxi_2020['Trip End Timestamp'].dt.time"
   ]
  },
  {
   "cell_type": "code",
   "execution_count": 50,
   "metadata": {},
   "outputs": [
    {
     "data": {
      "text/html": [
       "<div>\n",
       "<style scoped>\n",
       "    .dataframe tbody tr th:only-of-type {\n",
       "        vertical-align: middle;\n",
       "    }\n",
       "\n",
       "    .dataframe tbody tr th {\n",
       "        vertical-align: top;\n",
       "    }\n",
       "\n",
       "    .dataframe thead th {\n",
       "        text-align: right;\n",
       "    }\n",
       "</style>\n",
       "<table border=\"1\" class=\"dataframe\">\n",
       "  <thead>\n",
       "    <tr style=\"text-align: right;\">\n",
       "      <th></th>\n",
       "      <th>Taxi ID</th>\n",
       "      <th>Trip Start Timestamp</th>\n",
       "      <th>Trip End Timestamp</th>\n",
       "      <th>Trip Seconds</th>\n",
       "      <th>Trip Miles</th>\n",
       "      <th>Pickup Census Tract</th>\n",
       "      <th>Dropoff Census Tract</th>\n",
       "      <th>Pickup Community Area</th>\n",
       "      <th>Dropoff Community Area</th>\n",
       "      <th>Fare</th>\n",
       "      <th>...</th>\n",
       "      <th>Pickup Centroid Latitude</th>\n",
       "      <th>Pickup Centroid Longitude</th>\n",
       "      <th>Pickup Centroid Location</th>\n",
       "      <th>Dropoff Centroid Latitude</th>\n",
       "      <th>Dropoff Centroid Longitude</th>\n",
       "      <th>Dropoff Centroid  Location</th>\n",
       "      <th>Start Date</th>\n",
       "      <th>Start Time</th>\n",
       "      <th>End Date</th>\n",
       "      <th>End Time</th>\n",
       "    </tr>\n",
       "  </thead>\n",
       "  <tbody>\n",
       "    <tr>\n",
       "      <td>0</td>\n",
       "      <td>bbf91e67201de7487dbeb23021a9a741e36d8d65175def...</td>\n",
       "      <td>2019-12-01 00:15:00</td>\n",
       "      <td>2019-12-01 00:30:00</td>\n",
       "      <td>600.0</td>\n",
       "      <td>0.1</td>\n",
       "      <td>1.703184e+10</td>\n",
       "      <td>1.703108e+10</td>\n",
       "      <td>32.0</td>\n",
       "      <td>8.0</td>\n",
       "      <td>8.75</td>\n",
       "      <td>...</td>\n",
       "      <td>41.881</td>\n",
       "      <td>-87.632746</td>\n",
       "      <td>POINT (-87.6327464887 41.8809944707)</td>\n",
       "      <td>41.899156</td>\n",
       "      <td>-87.626211</td>\n",
       "      <td>POINT (-87.6262105324 41.8991556134)</td>\n",
       "      <td>2019-12-01</td>\n",
       "      <td>00:15:00</td>\n",
       "      <td>2019-12-01</td>\n",
       "      <td>00:30:00</td>\n",
       "    </tr>\n",
       "    <tr>\n",
       "      <td>1</td>\n",
       "      <td>b83ba3da1a4bc2a686d885ec2f802c3f256c518d93816c...</td>\n",
       "      <td>2019-12-01 00:15:00</td>\n",
       "      <td>2019-12-01 00:15:00</td>\n",
       "      <td>180.0</td>\n",
       "      <td>0.0</td>\n",
       "      <td>NaN</td>\n",
       "      <td>NaN</td>\n",
       "      <td>7.0</td>\n",
       "      <td>6.0</td>\n",
       "      <td>5.00</td>\n",
       "      <td>...</td>\n",
       "      <td>41.9227</td>\n",
       "      <td>-87.649489</td>\n",
       "      <td>POINT (-87.6494887289 41.9226862843)</td>\n",
       "      <td>41.944227</td>\n",
       "      <td>-87.655998</td>\n",
       "      <td>POINT (-87.6559981815 41.9442266014)</td>\n",
       "      <td>2019-12-01</td>\n",
       "      <td>00:15:00</td>\n",
       "      <td>2019-12-01</td>\n",
       "      <td>00:15:00</td>\n",
       "    </tr>\n",
       "    <tr>\n",
       "      <td>2</td>\n",
       "      <td>53c01ec83313fee495650d2294b7c88ade2f3d82f3acd0...</td>\n",
       "      <td>2019-12-01 00:15:00</td>\n",
       "      <td>2019-12-01 00:30:00</td>\n",
       "      <td>380.0</td>\n",
       "      <td>1.2</td>\n",
       "      <td>NaN</td>\n",
       "      <td>NaN</td>\n",
       "      <td>14.0</td>\n",
       "      <td>16.0</td>\n",
       "      <td>6.25</td>\n",
       "      <td>...</td>\n",
       "      <td>41.9681</td>\n",
       "      <td>-87.721559</td>\n",
       "      <td>POINT (-87.7215590627 41.968069)</td>\n",
       "      <td>41.953582</td>\n",
       "      <td>-87.723452</td>\n",
       "      <td>POINT (-87.7234523905 41.9535821253)</td>\n",
       "      <td>2019-12-01</td>\n",
       "      <td>00:15:00</td>\n",
       "      <td>2019-12-01</td>\n",
       "      <td>00:30:00</td>\n",
       "    </tr>\n",
       "    <tr>\n",
       "      <td>3</td>\n",
       "      <td>ef5e9c8f0da412a5961a77ad3da965c641e08eb1ddd19f...</td>\n",
       "      <td>2019-12-01 00:15:00</td>\n",
       "      <td>2019-12-01 00:30:00</td>\n",
       "      <td>780.0</td>\n",
       "      <td>2.0</td>\n",
       "      <td>1.703184e+10</td>\n",
       "      <td>1.703108e+10</td>\n",
       "      <td>32.0</td>\n",
       "      <td>8.0</td>\n",
       "      <td>9.25</td>\n",
       "      <td>...</td>\n",
       "      <td>41.881</td>\n",
       "      <td>-87.632746</td>\n",
       "      <td>POINT (-87.6327464887 41.8809944707)</td>\n",
       "      <td>41.899156</td>\n",
       "      <td>-87.626211</td>\n",
       "      <td>POINT (-87.6262105324 41.8991556134)</td>\n",
       "      <td>2019-12-01</td>\n",
       "      <td>00:15:00</td>\n",
       "      <td>2019-12-01</td>\n",
       "      <td>00:30:00</td>\n",
       "    </tr>\n",
       "    <tr>\n",
       "      <td>4</td>\n",
       "      <td>71cf25528ebc98e11ac91a5d359776a91874e7f6047cb8...</td>\n",
       "      <td>2019-12-01 00:15:00</td>\n",
       "      <td>2019-12-01 00:30:00</td>\n",
       "      <td>720.0</td>\n",
       "      <td>3.1</td>\n",
       "      <td>1.703128e+10</td>\n",
       "      <td>1.703107e+10</td>\n",
       "      <td>28.0</td>\n",
       "      <td>7.0</td>\n",
       "      <td>11.50</td>\n",
       "      <td>...</td>\n",
       "      <td>41.8793</td>\n",
       "      <td>-87.642649</td>\n",
       "      <td>POINT (-87.642648998 41.8792550844)</td>\n",
       "      <td>41.922083</td>\n",
       "      <td>-87.634156</td>\n",
       "      <td>POINT (-87.6341560931 41.922082541)</td>\n",
       "      <td>2019-12-01</td>\n",
       "      <td>00:15:00</td>\n",
       "      <td>2019-12-01</td>\n",
       "      <td>00:30:00</td>\n",
       "    </tr>\n",
       "  </tbody>\n",
       "</table>\n",
       "<p>5 rows × 26 columns</p>\n",
       "</div>"
      ],
      "text/plain": [
       "                                             Taxi ID Trip Start Timestamp  \\\n",
       "0  bbf91e67201de7487dbeb23021a9a741e36d8d65175def...  2019-12-01 00:15:00   \n",
       "1  b83ba3da1a4bc2a686d885ec2f802c3f256c518d93816c...  2019-12-01 00:15:00   \n",
       "2  53c01ec83313fee495650d2294b7c88ade2f3d82f3acd0...  2019-12-01 00:15:00   \n",
       "3  ef5e9c8f0da412a5961a77ad3da965c641e08eb1ddd19f...  2019-12-01 00:15:00   \n",
       "4  71cf25528ebc98e11ac91a5d359776a91874e7f6047cb8...  2019-12-01 00:15:00   \n",
       "\n",
       "   Trip End Timestamp  Trip Seconds  Trip Miles  Pickup Census Tract  \\\n",
       "0 2019-12-01 00:30:00         600.0         0.1         1.703184e+10   \n",
       "1 2019-12-01 00:15:00         180.0         0.0                  NaN   \n",
       "2 2019-12-01 00:30:00         380.0         1.2                  NaN   \n",
       "3 2019-12-01 00:30:00         780.0         2.0         1.703184e+10   \n",
       "4 2019-12-01 00:30:00         720.0         3.1         1.703128e+10   \n",
       "\n",
       "   Dropoff Census Tract  Pickup Community Area  Dropoff Community Area   Fare  \\\n",
       "0          1.703108e+10                   32.0                     8.0   8.75   \n",
       "1                   NaN                    7.0                     6.0   5.00   \n",
       "2                   NaN                   14.0                    16.0   6.25   \n",
       "3          1.703108e+10                   32.0                     8.0   9.25   \n",
       "4          1.703107e+10                   28.0                     7.0  11.50   \n",
       "\n",
       "   ...  Pickup Centroid Latitude  Pickup Centroid Longitude  \\\n",
       "0  ...                    41.881                 -87.632746   \n",
       "1  ...                   41.9227                 -87.649489   \n",
       "2  ...                   41.9681                 -87.721559   \n",
       "3  ...                    41.881                 -87.632746   \n",
       "4  ...                   41.8793                 -87.642649   \n",
       "\n",
       "               Pickup Centroid Location  Dropoff Centroid Latitude  \\\n",
       "0  POINT (-87.6327464887 41.8809944707)                  41.899156   \n",
       "1  POINT (-87.6494887289 41.9226862843)                  41.944227   \n",
       "2      POINT (-87.7215590627 41.968069)                  41.953582   \n",
       "3  POINT (-87.6327464887 41.8809944707)                  41.899156   \n",
       "4   POINT (-87.642648998 41.8792550844)                  41.922083   \n",
       "\n",
       "  Dropoff Centroid Longitude            Dropoff Centroid  Location  \\\n",
       "0                 -87.626211  POINT (-87.6262105324 41.8991556134)   \n",
       "1                 -87.655998  POINT (-87.6559981815 41.9442266014)   \n",
       "2                 -87.723452  POINT (-87.7234523905 41.9535821253)   \n",
       "3                 -87.626211  POINT (-87.6262105324 41.8991556134)   \n",
       "4                 -87.634156   POINT (-87.6341560931 41.922082541)   \n",
       "\n",
       "   Start Date  Start Time    End Date  End Time  \n",
       "0  2019-12-01    00:15:00  2019-12-01  00:30:00  \n",
       "1  2019-12-01    00:15:00  2019-12-01  00:15:00  \n",
       "2  2019-12-01    00:15:00  2019-12-01  00:30:00  \n",
       "3  2019-12-01    00:15:00  2019-12-01  00:30:00  \n",
       "4  2019-12-01    00:15:00  2019-12-01  00:30:00  \n",
       "\n",
       "[5 rows x 26 columns]"
      ]
     },
     "execution_count": 50,
     "metadata": {},
     "output_type": "execute_result"
    }
   ],
   "source": [
    "# Check data types again\n",
    "taxi_2020.head()"
   ]
  },
  {
   "cell_type": "code",
   "execution_count": 51,
   "metadata": {},
   "outputs": [
    {
     "data": {
      "text/plain": [
       "Taxi ID                               object\n",
       "Trip Start Timestamp          datetime64[ns]\n",
       "Trip End Timestamp            datetime64[ns]\n",
       "Trip Seconds                         float64\n",
       "Trip Miles                           float64\n",
       "Pickup Census Tract                  float64\n",
       "Dropoff Census Tract                 float64\n",
       "Pickup Community Area                float64\n",
       "Dropoff Community Area               float64\n",
       "Fare                                 float64\n",
       "Tips                                 float64\n",
       "Tolls                                float64\n",
       "Extras                               float64\n",
       "Trip Total                           float64\n",
       "Payment Type                          object\n",
       "Company                               object\n",
       "Pickup Centroid Latitude              object\n",
       "Pickup Centroid Longitude            float64\n",
       "Pickup Centroid Location              object\n",
       "Dropoff Centroid Latitude            float64\n",
       "Dropoff Centroid Longitude           float64\n",
       "Dropoff Centroid  Location            object\n",
       "Start Date                            object\n",
       "Start Time                            object\n",
       "End Date                              object\n",
       "End Time                              object\n",
       "dtype: object"
      ]
     },
     "execution_count": 51,
     "metadata": {},
     "output_type": "execute_result"
    }
   ],
   "source": [
    "# Check data types again\n",
    "taxi_2020.dtypes"
   ]
  },
  {
   "cell_type": "code",
   "execution_count": 53,
   "metadata": {},
   "outputs": [],
   "source": [
    "# Convert start date and into datetime format\n",
    "taxi_2020['Start Date'] = pd.to_datetime(taxi_2020['Start Date'])\n",
    "taxi_2020['End Date'] = pd.to_datetime(taxi_2020['End Date'])"
   ]
  },
  {
   "cell_type": "code",
   "execution_count": 54,
   "metadata": {},
   "outputs": [
    {
     "data": {
      "text/plain": [
       "Taxi ID                               object\n",
       "Trip Start Timestamp          datetime64[ns]\n",
       "Trip End Timestamp            datetime64[ns]\n",
       "Trip Seconds                         float64\n",
       "Trip Miles                           float64\n",
       "Pickup Census Tract                  float64\n",
       "Dropoff Census Tract                 float64\n",
       "Pickup Community Area                float64\n",
       "Dropoff Community Area               float64\n",
       "Fare                                 float64\n",
       "Tips                                 float64\n",
       "Tolls                                float64\n",
       "Extras                               float64\n",
       "Trip Total                           float64\n",
       "Payment Type                          object\n",
       "Company                               object\n",
       "Pickup Centroid Latitude              object\n",
       "Pickup Centroid Longitude            float64\n",
       "Pickup Centroid Location              object\n",
       "Dropoff Centroid Latitude            float64\n",
       "Dropoff Centroid Longitude           float64\n",
       "Dropoff Centroid  Location            object\n",
       "Start Date                    datetime64[ns]\n",
       "Start Time                            object\n",
       "End Date                      datetime64[ns]\n",
       "End Time                              object\n",
       "dtype: object"
      ]
     },
     "execution_count": 54,
     "metadata": {},
     "output_type": "execute_result"
    }
   ],
   "source": [
    "# Check data types again\n",
    "taxi_2020.dtypes"
   ]
  },
  {
   "cell_type": "code",
   "execution_count": 151,
   "metadata": {},
   "outputs": [],
   "source": [
    "# Group rides by date and count\n",
    "taxi_2020_by_day = taxi_2020['Start Date'].dt.date.value_counts().sort_index().reset_index()\n",
    "taxi_2020_by_day.columns = ['Start Date', 'Count']"
   ]
  },
  {
   "cell_type": "code",
   "execution_count": 152,
   "metadata": {},
   "outputs": [
    {
     "name": "stdout",
     "output_type": "stream",
     "text": [
      "     Start Date  Count\n",
      "0    2019-12-01  33571\n",
      "1    2019-12-02  52913\n",
      "2    2019-12-03  56998\n",
      "3    2019-12-04  58126\n",
      "4    2019-12-05  62134\n",
      "..          ...    ...\n",
      "179  2020-05-28   2721\n",
      "180  2020-05-29   2844\n",
      "181  2020-05-30   2394\n",
      "182  2020-05-31   2438\n",
      "183  2020-06-01     10\n",
      "\n",
      "[184 rows x 2 columns]\n"
     ]
    }
   ],
   "source": [
    "print(taxi_2020_by_day)"
   ]
  },
  {
   "cell_type": "code",
   "execution_count": 153,
   "metadata": {},
   "outputs": [],
   "source": [
    "# Rename start date column\n",
    "taxi_2020_by_day = taxi_2020_by_day.rename(columns = {'Start Date': \"Start_date\"})"
   ]
  },
  {
   "cell_type": "code",
   "execution_count": 154,
   "metadata": {},
   "outputs": [
    {
     "data": {
      "image/png": "[encoded data removed]",
      "text/plain": [
       "<Figure size 720x720 with 1 Axes>"
      ]
     },
     "metadata": {
      "needs_background": "light"
     },
     "output_type": "display_data"
    }
   ],
   "source": [
    "# Plot rides by day\n",
    "plt.rcParams['figure.figsize'] = (10,10)\n",
    "plt.plot(taxi_2020_by_day.Start_date, taxi_2020_by_day.Count)\n",
    "plt.title('The taxi traffic in Chicago drop significantly in the end of March 2020 due to COVID-19')\n",
    "plt.show()"
   ]
  },
  {
   "cell_type": "code",
   "execution_count": 155,
   "metadata": {},
   "outputs": [
    {
     "data": {
      "image/png": "[encoded data removed]",
      "text/plain": [
       "<Figure size 720x720 with 1 Axes>"
      ]
     },
     "metadata": {
      "needs_background": "light"
     },
     "output_type": "display_data"
    }
   ],
   "source": [
    "# The same data can be presented in the format of barchart\n",
    "plt.bar(taxi_2020_by_day.Start_date, taxi_2020_by_day.Count)\n",
    "plt.title('The taxi traffic in Chicago drop significantly in the end of March 2020 due to COVID-19')\n",
    "plt.show()"
   ]
  },
  {
   "cell_type": "code",
   "execution_count": 157,
   "metadata": {},
   "outputs": [
    {
     "name": "stdout",
     "output_type": "stream",
     "text": [
      "     Start Date                        Company    0\n",
      "0    2019-12-01    1085 - 72312 N and W Cab Co    4\n",
      "1    2019-12-01     2092 - 61288 Sbeih company    5\n",
      "2    2019-12-01                  24 Seven Taxi  279\n",
      "3    2019-12-01      3011 - 66308 JBL Cab Inc.    2\n",
      "4    2019-12-01     3094 - 24059 G.L.B. Cab Co   11\n",
      "...         ...                            ...  ...\n",
      "6362 2020-05-31  Taxicab Insurance Agency, LLC   17\n",
      "6363 2020-05-31            Top Cab Affiliation   70\n",
      "6364 2020-05-31                      U Taxicab   33\n",
      "6365 2020-06-01                      Flash Cab    6\n",
      "6366 2020-06-01      Taxi Affiliation Services    4\n",
      "\n",
      "[6367 rows x 3 columns]\n"
     ]
    }
   ],
   "source": [
    "# Now let's analyze how different companies were affected during this period of time\n",
    "taxi_2020_by_day_company = taxi_2020.groupby(['Start Date', 'Company']).size().reset_index()\n",
    "print(taxi_2020_by_day_company)"
   ]
  },
  {
   "cell_type": "code",
   "execution_count": 158,
   "metadata": {},
   "outputs": [
    {
     "name": "stdout",
     "output_type": "stream",
     "text": [
      "     Start Date                        Company  Rides\n",
      "0    2019-12-01    1085 - 72312 N and W Cab Co      4\n",
      "1    2019-12-01     2092 - 61288 Sbeih company      5\n",
      "2    2019-12-01                  24 Seven Taxi    279\n",
      "3    2019-12-01      3011 - 66308 JBL Cab Inc.      2\n",
      "4    2019-12-01     3094 - 24059 G.L.B. Cab Co     11\n",
      "...         ...                            ...    ...\n",
      "6362 2020-05-31  Taxicab Insurance Agency, LLC     17\n",
      "6363 2020-05-31            Top Cab Affiliation     70\n",
      "6364 2020-05-31                      U Taxicab     33\n",
      "6365 2020-06-01                      Flash Cab      6\n",
      "6366 2020-06-01      Taxi Affiliation Services      4\n",
      "\n",
      "[6367 rows x 3 columns]\n"
     ]
    }
   ],
   "source": [
    "# Rename column 0\n",
    "taxi_2020_by_day_company = taxi_2020_by_day_company.rename(columns = {0 : 'Rides'})\n",
    "print(taxi_2020_by_day_company)"
   ]
  },
  {
   "cell_type": "code",
   "execution_count": 159,
   "metadata": {},
   "outputs": [
    {
     "data": {
      "text/plain": [
       "Flash Cab                                       184\n",
       "Taxi Affiliation Services                       184\n",
       "Top Cab Affiliation                             183\n",
       "312 Medallion Management Corp                   183\n",
       "Setare Inc                                      183\n",
       "Blue Ribbon Taxi Association Inc.               183\n",
       "Star North Management LLC                       183\n",
       "Choice Taxi Association                         183\n",
       "Patriot Taxi Dba Peace Taxi Associat            183\n",
       "Taxicab Insurance Agency, LLC                   183\n",
       "Chicago Taxicab                                 183\n",
       "Chicago Independents                            183\n",
       "Sun Taxi                                        183\n",
       "Medallion Leasin                                183\n",
       "City Service                                    182\n",
       "Suburban Dispatch LLC                           181\n",
       "Chicago Medallion Management                    178\n",
       "Metro Jet Taxi A                                174\n",
       "24 Seven Taxi                                   169\n",
       "Nova Taxi Affiliation Llc                       169\n",
       "U Taxicab                                       153\n",
       "Chicago Carriage Cab Corp                       150\n",
       "3556 - 36214 RC Andrews Cab                     147\n",
       "KOAM Taxi Association                           136\n",
       "Petani Cab Corp                                 123\n",
       "2733 - 74600 Benny Jona                         118\n",
       "5 Star Taxi                                     118\n",
       "Leonard Cab Co                                  115\n",
       "4623 - 27290 Jay Kim                            114\n",
       "2092 - 61288 Sbeih company                      107\n",
       "3094 - 24059 G.L.B. Cab Co                      106\n",
       "3011 - 66308 JBL Cab Inc.                       103\n",
       "1085 - 72312 N and W Cab Co                     101\n",
       "6743 - 78771 Luhak Corp                          93\n",
       "5062 - 34841 Sam Mestas                          90\n",
       "6574 - Babylon Express Inc.                      90\n",
       "5874 - 73628 Sergey Cab Corp.                    90\n",
       "5006 - 39261 Salifu Bawa                         83\n",
       "4053 - 40193 Adwar H. Nikola                     79\n",
       "3623 - 72222 Arrington Enterprises               78\n",
       "4787 - 56058 Reny Cab Co                         77\n",
       "Blue Diamond                                     73\n",
       "6742 - 83735 Tasha ride inc                      73\n",
       "Taxi Affiliation Service Yellow                  73\n",
       "Checker Taxi Affiliation                         65\n",
       "3620 - 52292 David K. Cab Corp.                  63\n",
       "3721 - Santamaria Express, Alvaro Santamaria     62\n",
       "3591 - 63480 Chuks Cab                           46\n",
       "4523 - 79481 Hazel Transit Inc                   20\n",
       "CMT-Sales                                         4\n",
       "Name: Company, dtype: int64"
      ]
     },
     "execution_count": 159,
     "metadata": {},
     "output_type": "execute_result"
    }
   ],
   "source": [
    "# Check all companies here\n",
    "taxi_2020_by_day_company.Company.value_counts()\n",
    "# Numbers here tell how many days companies were driving, not rides"
   ]
  },
  {
   "cell_type": "code",
   "execution_count": 160,
   "metadata": {},
   "outputs": [
    {
     "data": {
      "text/plain": [
       "50"
      ]
     },
     "execution_count": 160,
     "metadata": {},
     "output_type": "execute_result"
    }
   ],
   "source": [
    "# Calculate the number of companies\n",
    "taxi_2020_by_day_company.Company.value_counts().count()\n",
    "# As you can see, we have 50 companies"
   ]
  },
  {
   "cell_type": "code",
   "execution_count": 161,
   "metadata": {},
   "outputs": [
    {
     "name": "stdout",
     "output_type": "stream",
     "text": [
      "                                         Company    Rides\n",
      "46                     Taxi Affiliation Services  1056468\n",
      "33                                     Flash Cab   705973\n",
      "27                     Chicago Carriage Cab Corp   406858\n",
      "44                                      Sun Taxi   326998\n",
      "32                                  City Service   283776\n",
      "36                              Medallion Leasin   247711\n",
      "42                     Star North Management LLC   206138\n",
      "24             Blue Ribbon Taxi Association Inc.   198296\n",
      "47                 Taxicab Insurance Agency, LLC   152850\n",
      "31                       Choice Taxi Association   128699\n",
      "28                          Chicago Independents    81866\n",
      "48                           Top Cab Affiliation    61755\n",
      "38                     Nova Taxi Affiliation Llc    47300\n",
      "2                                  24 Seven Taxi    43564\n",
      "39          Patriot Taxi Dba Peace Taxi Associat    39549\n",
      "30                               Chicago Taxicab    31296\n",
      "34                         KOAM Taxi Association    29087\n",
      "29                  Chicago Medallion Management    13119\n",
      "41                                    Setare Inc    10291\n",
      "37                              Metro Jet Taxi A     7915\n",
      "49                                     U Taxicab     7153\n",
      "45               Taxi Affiliation Service Yellow     7062\n",
      "16                                   5 Star Taxi     6566\n",
      "6                  312 Medallion Management Corp     6192\n",
      "43                         Suburban Dispatch LLC     5857\n",
      "35                                Leonard Cab Co     3621\n",
      "40                               Petani Cab Corp     2327\n",
      "26                      Checker Taxi Affiliation     1943\n",
      "23                                  Blue Diamond     1869\n",
      "4                      3011 - 66308 JBL Cab Inc.     1475\n",
      "0                    1085 - 72312 N and W Cab Co     1301\n",
      "22                       6743 - 78771 Luhak Corp     1247\n",
      "5                     3094 - 24059 G.L.B. Cab Co     1098\n",
      "17                      5006 - 39261 Salifu Bawa     1007\n",
      "21                   6742 - 83735 Tasha ride inc      940\n",
      "1                     2092 - 61288 Sbeih company      888\n",
      "20                   6574 - Babylon Express Inc.      862\n",
      "8                         3591 - 63480 Chuks Cab      849\n",
      "10            3623 - 72222 Arrington Enterprises      735\n",
      "19                 5874 - 73628 Sergey Cab Corp.      654\n",
      "7                    3556 - 36214 RC Andrews Cab      640\n",
      "15                      4787 - 56058 Reny Cab Co      616\n",
      "3                        2733 - 74600 Benny Jona      594\n",
      "14                          4623 - 27290 Jay Kim      494\n",
      "18                       5062 - 34841 Sam Mestas      477\n",
      "11  3721 - Santamaria Express, Alvaro Santamaria      410\n",
      "9                3620 - 52292 David K. Cab Corp.      360\n",
      "12                  4053 - 40193 Adwar H. Nikola      312\n",
      "13                4523 - 79481 Hazel Transit Inc      116\n",
      "25                                     CMT-Sales        6\n"
     ]
    }
   ],
   "source": [
    "# Let's group by rides now to identify the most popular companies with the biggest amount of rides\n",
    "taxi_2020_by_day_company_sum = taxi_2020_by_day_company.groupby('Company', as_index=False).agg({\"Rides\": \"sum\"}).sort_values('Rides', ascending = False)\n",
    "print(taxi_2020_by_day_company_sum)"
   ]
  },
  {
   "cell_type": "code",
   "execution_count": 183,
   "metadata": {},
   "outputs": [
    {
     "name": "stdout",
     "output_type": "stream",
     "text": [
      "     Start Date                            Company  Rides\n",
      "18   2019-12-01  Blue Ribbon Taxi Association Inc.   1648\n",
      "20   2019-12-01          Chicago Carriage Cab Corp   3276\n",
      "24   2019-12-01            Choice Taxi Association   1011\n",
      "25   2019-12-01                       City Service   2353\n",
      "26   2019-12-01                          Flash Cab   5450\n",
      "...         ...                                ...    ...\n",
      "6360 2020-05-31                           Sun Taxi     60\n",
      "6361 2020-05-31          Taxi Affiliation Services    834\n",
      "6362 2020-05-31      Taxicab Insurance Agency, LLC     17\n",
      "6365 2020-06-01                          Flash Cab      6\n",
      "6366 2020-06-01          Taxi Affiliation Services      4\n",
      "\n",
      "[1798 rows x 3 columns]\n"
     ]
    }
   ],
   "source": [
    "# As we can see, there are 10 companies, whih had more from 1 mln to 100000 rides.\n",
    "# We need to subset these top 10 companies and identify patterns.\n",
    "top_10_companies_by_day = taxi_2020_by_day_company.loc[taxi_2020_by_day_company['Company'].\n",
    "                                                       isin(['Taxi Affiliation Services',\n",
    "                                                             'Flash Cab',\n",
    "                                                             'Chicago Carriage Cab Corp', \n",
    "                                                             'Sun Taxi',\n",
    "                                                             'City Service', \n",
    "                                                             'Medallion Leasin',\n",
    "                                                             'Star North Management LLC', \n",
    "                                                             'Blue Ribbon Taxi Association Inc.',\n",
    "                                                             'Taxicab Insurance Agency, LLC',\n",
    "                                                             'Choice Taxi Association'])]\n",
    "print(top_10_companies_by_day)"
   ]
  },
  {
   "cell_type": "code",
   "execution_count": 184,
   "metadata": {},
   "outputs": [
    {
     "name": "stdout",
     "output_type": "stream",
     "text": [
      "     Start_date                            Company  Rides\n",
      "18   2019-12-01  Blue Ribbon Taxi Association Inc.   1648\n",
      "20   2019-12-01          Chicago Carriage Cab Corp   3276\n",
      "24   2019-12-01            Choice Taxi Association   1011\n",
      "25   2019-12-01                       City Service   2353\n",
      "26   2019-12-01                          Flash Cab   5450\n",
      "...         ...                                ...    ...\n",
      "6360 2020-05-31                           Sun Taxi     60\n",
      "6361 2020-05-31          Taxi Affiliation Services    834\n",
      "6362 2020-05-31      Taxicab Insurance Agency, LLC     17\n",
      "6365 2020-06-01                          Flash Cab      6\n",
      "6366 2020-06-01          Taxi Affiliation Services      4\n",
      "\n",
      "[1798 rows x 3 columns]\n"
     ]
    }
   ],
   "source": [
    "top_10_companies_by_day = top_10_companies_by_day.rename(columns = {'Start Date': \"Start_date\"})\n",
    "print(top_10_companies_by_day)"
   ]
  },
  {
   "cell_type": "code",
   "execution_count": 206,
   "metadata": {},
   "outputs": [],
   "source": [
    "# Separate companies\n",
    "flash_cab = top_10_companies_by_day.loc[taxi_2020_by_day_company['Company'].isin(['Flash Cab'])]\n",
    "taxi_affiliation_services = top_10_companies_by_day.loc[taxi_2020_by_day_company['Company'].\n",
    "                                                        isin(['Taxi Affiliation Services'])]\n",
    "chicago_carriage_cab_corp = top_10_companies_by_day.loc[taxi_2020_by_day_company['Company'].isin(['Chicago Carriage Cab Corp'])]\n",
    "sun_taxi = top_10_companies_by_day.loc[taxi_2020_by_day_company['Company'].isin(['Sun Taxi'])]\n",
    "city_service = top_10_companies_by_day.loc[taxi_2020_by_day_company['Company'].isin(['City Service'])]"
   ]
  },
  {
   "cell_type": "code",
   "execution_count": 207,
   "metadata": {},
   "outputs": [
    {
     "data": {
      "image/png": "[encoded data removed]",
      "text/plain": [
       "<Figure size 720x720 with 1 Axes>"
      ]
     },
     "metadata": {
      "needs_background": "light"
     },
     "output_type": "display_data"
    }
   ],
   "source": [
    "# Plot top 5 companies\n",
    "plt.rcParams['figure.figsize'] = (10,10)\n",
    "plt.plot(flash_cab.Start_date, flash_cab.Rides, label = 'Flash Cab')\n",
    "plt.plot(taxi_affiliation_services.Start_date, taxi_affiliation_services.Rides, label = 'Taxi Affiliation Services')\n",
    "plt.plot(chicago_carriage_cab_corp.Start_date, chicago_carriage_cab_corp.Rides, label = 'Chicago Carriage Cab Corp')\n",
    "plt.plot(sun_taxi.Start_date, sun_taxi.Rides, label = 'Sun Taxi')\n",
    "plt.plot(city_service.Start_date, city_service.Rides, label = 'City Service')\n",
    "plt.title('Top 5 taxi companies in Chicago faced a dramatic drop of traffic due to COVID-19')\n",
    "plt.legend()\n",
    "plt.show()"
   ]
  },
  {
   "cell_type": "markdown",
   "metadata": {},
   "source": [
    "**Additional research information:**\n",
    "\n",
    "1. How much does a Taxi Driver make in Chicago, IL? The average Taxi Driver salary in Chicago, IL is 38,001 USD as of May 28, 2020, but the range typically falls between 31,564 USD and 46,379 USD. \n",
    "\n",
    "2. Chicago, Illinois - 6,650 taxi certificates (medallions)\n",
    "\n"
   ]
  },
  {
   "cell_type": "code",
   "execution_count": null,
   "metadata": {},
   "outputs": [],
   "source": []
  }
 ],
 "metadata": {
  "kernelspec": {
   "display_name": "Python 3",
   "language": "python",
   "name": "python3"
  },
  "language_info": {
   "codemirror_mode": {
    "name": "ipython",
    "version": 3
   },
   "file_extension": ".py",
   "mimetype": "text/x-python",
   "name": "python",
   "nbconvert_exporter": "python",
   "pygments_lexer": "ipython3",
   "version": "3.7.4"
  }
 },
 "nbformat": 4,
 "nbformat_minor": 2
}
