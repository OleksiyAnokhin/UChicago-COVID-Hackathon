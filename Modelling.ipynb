{
 "cells": [
  {
   "cell_type": "code",
   "execution_count": 1,
   "metadata": {},
   "outputs": [],
   "source": [
    "# Python\n",
    "import pandas as pd\n",
    "from fbprophet import Prophet"
   ]
  },
  {
   "cell_type": "code",
   "execution_count": 3,
   "metadata": {},
   "outputs": [
    {
     "name": "stdout",
     "output_type": "stream",
     "text": [
      "Collecting prophet\n",
      "  Downloading https://files.pythonhosted.org/packages/91/8d/2ed577196f58f9d7a93958ec650ffee35d42e81f430b1a44f0963eb83ce0/prophet-0.1.1.post1.tar.gz (90kB)\n",
      "Requirement already satisfied: pytz>=2014.9 in c:\\users\\oleks\\anaconda3\\lib\\site-packages (from prophet) (2019.3)\n",
      "Requirement already satisfied: pandas>=0.15.1 in c:\\users\\oleks\\anaconda3\\lib\\site-packages (from prophet) (1.0.5)\n",
      "Requirement already satisfied: six>=1.8.0 in c:\\users\\oleks\\anaconda3\\lib\\site-packages (from prophet) (1.12.0)\n",
      "Requirement already satisfied: python-dateutil>=2.6.1 in c:\\users\\oleks\\anaconda3\\lib\\site-packages (from pandas>=0.15.1->prophet) (2.8.0)\n",
      "Requirement already satisfied: numpy>=1.13.3 in c:\\users\\oleks\\anaconda3\\lib\\site-packages (from pandas>=0.15.1->prophet) (1.16.5)\n",
      "Building wheels for collected packages: prophet\n",
      "  Building wheel for prophet (setup.py): started\n",
      "  Building wheel for prophet (setup.py): finished with status 'done'\n",
      "  Created wheel for prophet: filename=prophet-0.1.1.post1-cp37-none-any.whl size=13256 sha256=0fe9fad2312e257601d42d161e1840b1ea67486bee8a97476d4d67023b420204\n",
      "  Stored in directory: C:\\Users\\oleks\\AppData\\Local\\pip\\Cache\\wheels\\71\\d7\\4f\\0ade9b5843362f84d39c21edbe6065032e388053c4ab0ab83e\n",
      "Successfully built prophet\n",
      "Installing collected packages: prophet\n",
      "Successfully installed prophet-0.1.1.post1\n",
      "Note: you may need to restart the kernel to use updated packages.\n"
     ]
    }
   ],
   "source": []
  },
  {
   "cell_type": "code",
   "execution_count": null,
   "metadata": {},
   "outputs": [],
   "source": [
    "\n"
   ]
  }
 ],
 "metadata": {
  "kernelspec": {
   "display_name": "Python 3",
   "language": "python",
   "name": "python3"
  },
  "language_info": {
   "codemirror_mode": {
    "name": "ipython",
    "version": 3
   },
   "file_extension": ".py",
   "mimetype": "text/x-python",
   "name": "python",
   "nbconvert_exporter": "python",
   "pygments_lexer": "ipython3",
   "version": "3.7.4"
  }
 },
 "nbformat": 4,
 "nbformat_minor": 2
}
